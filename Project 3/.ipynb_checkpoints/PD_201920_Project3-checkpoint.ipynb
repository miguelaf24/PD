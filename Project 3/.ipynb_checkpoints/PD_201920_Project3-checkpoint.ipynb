{
 "cells": [
  {
   "cell_type": "markdown",
   "metadata": {},
   "source": [
    "# Data Mining / Prospecção de Dados\n",
    "\n",
    "## Sara C. Madeira, 2019/20"
   ]
  },
  {
   "cell_type": "markdown",
   "metadata": {
    "heading_collapsed": true
   },
   "source": [
    "## Project 3 - Classification/Regression"
   ]
  },
  {
   "cell_type": "markdown",
   "metadata": {
    "heading_collapsed": true,
    "hidden": true
   },
   "source": [
    "### Logistics"
   ]
  },
  {
   "cell_type": "markdown",
   "metadata": {
    "hidden": true
   },
   "source": [
    "**In a \"normal\" scenario students should work in teams of 2 people. Due to the social distance imposed by current public health situation, students were allowed to work in groups of 1 and 3. In this context, the amount of work was adapted according to the number of students in groups as described below.**\n",
    "\n",
    "* Tasks **1 to 4** should be done by **all** groups **BUT**\n",
    "    * In Tasks **2 and 3** the number of classifiers/regressors to use is **`X` = 2, 3 and 4**  for groups of 1, 2 and 3 students, respectively.\n",
    "    * In Task **4**, groups of 1, 2 and 3 students should try 1, 2 and 3 ensemble approaches, respectively.\n",
    "\n",
    "The quality of the project will then dictate its grade.\n",
    "\n",
    "**The project's solution should be uploaded in Moodle before the end of June, 9th 2020 (23:59).** \n",
    "\n",
    "**It is mandatory to produce a Jupyter notebook containing code and text/images/tables/etc describing the solution and the results. Projects not delivered in this format will not be graded. Note that you can use `PD_201920_Project3.ipynb`as template.**\n",
    "\n",
    "Students should **upload a `.zip` file** containing all the files necessary for project evaluation. \n",
    "\n",
    "**Decisions should be justified and results should be critically discussed.**"
   ]
  },
  {
   "cell_type": "markdown",
   "metadata": {
    "heading_collapsed": true,
    "hidden": true
   },
   "source": [
    "### Dataset and Tools"
   ]
  },
  {
   "cell_type": "markdown",
   "metadata": {
    "hidden": true
   },
   "source": [
    "In this project you should use [Python 3](https://www.python.org), [Jupyter Notebook](http://jupyter.org) and **[Scikit-learn](http://scikit-learn.org/stable/). You are also allowed to use [Orange3](https://orange.biolab.si).**\n",
    "\n",
    "The dataset to be analysed is **`ModifiedHousePrices.csv`**, a modified version of the train dataset used in Kaggle's competition [\"House Prices: Advanced Regression Techniques\"](https://www.kaggle.com/c/house-prices-advanced-regression-techniques/overview). \n",
    "\n",
    "If you ask a home buyer to describe their dream house, they probably won't begin with the height of the basement ceiling or the proximity to an east-west railroad. But this playground competition's dataset proves that much more influences price negotiations than the number of bedrooms or a white-picket fence. With more than 70 explanatory variables describing (almost) every aspect of residential homes in Ames, Iowa, this competition challenges you to predict the final price of each home.\n",
    "\n",
    "**This project challenges you twice** by asking you to tackle a\n",
    "1. **Regression Task**: predict the price, and a\n",
    "2. **Classification Task**: predict a price category.\n",
    "\n",
    "The variables are described [here](https://www.kaggle.com/c/house-prices-advanced-regression-techniques/data).\n",
    "\n",
    "The targets are:\n",
    "1. `SalePrice` - the property's sale price in dollars. This is the target variable that you're trying to predict in the regression task (same as in the Kaggle challenge).\n",
    "2. `Price3Classes` - the price category, where price can be below 200000 (\"<200000\"), between 200000 and 400000 (\"[200000,400000]\"), or above 200000 (\">200000\"). This is the target variable that you're trying to predict in the classification task. "
   ]
  },
  {
   "cell_type": "markdown",
   "metadata": {
    "heading_collapsed": true
   },
   "source": [
    "## 1. Load and Preprocess Dataset"
   ]
  },
  {
   "cell_type": "markdown",
   "metadata": {
    "hidden": true
   },
   "source": [
    "Here you might consider useful to think about:\n",
    "1. Missing Value Imputation\n",
    "2. Feature Selection\n",
    "3. Class Imbalance"
   ]
  },
  {
   "cell_type": "markdown",
   "metadata": {
    "heading_collapsed": true,
    "hidden": true
   },
   "source": [
    "### Inicializations"
   ]
  },
  {
   "cell_type": "code",
   "execution_count": 1,
   "metadata": {
    "hidden": true
   },
   "outputs": [],
   "source": [
    "import numpy as np\n",
    "import pandas as pd\n",
    "import seaborn as sns\n",
    "import pd_utils as utils\n",
    "\n",
    "from sklearn import preprocessing\n",
    "from sklearn.preprocessing import StandardScaler\n",
    "\n",
    "from sklearn.model_selection import train_test_split\n",
    "from sklearn.model_selection import GridSearchCV\n",
    "\n",
    "from sklearn.svm import SVR\n",
    "from sklearn.svm import SVC\n",
    "\n",
    "from sklearn.tree import DecisionTreeClassifier\n",
    "from sklearn.tree import DecisionTreeRegressor\n",
    "\n",
    "from sklearn import neighbors\n",
    "\n",
    "\n",
    "from sklearn import metrics\n",
    "from sklearn.metrics import confusion_matrix\n",
    "from sklearn.metrics import classification_report\n",
    "\n",
    "from sklearn import ensemble\n",
    "#from sklearn.linear_model import LinearRegression\n",
    "#from sklearn.ensemble import VotingRegressor\n",
    "from sklearn.ensemble import RandomForestRegressor\n",
    "from sklearn.ensemble import GradientBoostingRegressor\n",
    "\n",
    "from scipy.stats import uniform, randint\n",
    "\n",
    "from sklearn.datasets import load_breast_cancer, load_diabetes, load_wine\n",
    "from sklearn.metrics import auc, accuracy_score, confusion_matrix, mean_squared_error\n",
    "from sklearn.model_selection import cross_val_score, GridSearchCV, KFold, RandomizedSearchCV, train_test_split\n",
    "\n",
    "import xgboost as xgb\n",
    "\n",
    "from scipy import stats\n",
    "import matplotlib.pyplot as plt  # Matlab-style plotting\n",
    "\n",
    "#import warnings\n",
    "#warnings.filterwarnings(\"ignore\")"
   ]
  },
  {
   "cell_type": "code",
   "execution_count": 2,
   "metadata": {
    "hidden": true
   },
   "outputs": [],
   "source": [
    "df = pd.read_csv('ModifiedHousePrices.csv')"
   ]
  },
  {
   "cell_type": "code",
   "execution_count": 3,
   "metadata": {
    "hidden": true
   },
   "outputs": [],
   "source": [
    "df= df.drop([\"Id\"], axis=1)"
   ]
  },
  {
   "cell_type": "code",
   "execution_count": 4,
   "metadata": {
    "hidden": true
   },
   "outputs": [
    {
     "data": {
      "text/plain": [
       "<200000            1025\n",
       "[200000,400000]     407\n",
       ">400000              28\n",
       "Name: Price3Classes, dtype: int64"
      ]
     },
     "execution_count": 4,
     "metadata": {},
     "output_type": "execute_result"
    }
   ],
   "source": [
    "df.Price3Classes.value_counts()"
   ]
  },
  {
   "cell_type": "markdown",
   "metadata": {
    "heading_collapsed": true,
    "hidden": true
   },
   "source": [
    "### 1.1. Missing Data"
   ]
  },
  {
   "cell_type": "markdown",
   "metadata": {
    "hidden": true
   },
   "source": [
    "- Existem várias feautures com missing data. \n",
    "- Podemos deduzir que muitas delas não estão preenchidas porque são caracteriscas que não estão presentes nas casas.\n",
    "- Para as features 'Electrical','MSZoning','KitchenQual','Exterior1st','Exterior2nd','SaleType' os valores a null foram repostos com a moda\n",
    "- Os parametros a null das restantes features com valores numéricos foram preenchidas a 0 e das strings com \"None\"."
   ]
  },
  {
   "cell_type": "code",
   "execution_count": 5,
   "metadata": {
    "hidden": true
   },
   "outputs": [
    {
     "data": {
      "text/html": [
       "<div>\n",
       "<style scoped>\n",
       "    .dataframe tbody tr th:only-of-type {\n",
       "        vertical-align: middle;\n",
       "    }\n",
       "\n",
       "    .dataframe tbody tr th {\n",
       "        vertical-align: top;\n",
       "    }\n",
       "\n",
       "    .dataframe thead th {\n",
       "        text-align: right;\n",
       "    }\n",
       "</style>\n",
       "<table border=\"1\" class=\"dataframe\">\n",
       "  <thead>\n",
       "    <tr style=\"text-align: right;\">\n",
       "      <th></th>\n",
       "      <th>Total</th>\n",
       "      <th>Percent</th>\n",
       "    </tr>\n",
       "  </thead>\n",
       "  <tbody>\n",
       "    <tr>\n",
       "      <th>PoolQC</th>\n",
       "      <td>1453</td>\n",
       "      <td>0.995205</td>\n",
       "    </tr>\n",
       "    <tr>\n",
       "      <th>MiscFeature</th>\n",
       "      <td>1406</td>\n",
       "      <td>0.963014</td>\n",
       "    </tr>\n",
       "    <tr>\n",
       "      <th>Alley</th>\n",
       "      <td>1369</td>\n",
       "      <td>0.937671</td>\n",
       "    </tr>\n",
       "    <tr>\n",
       "      <th>Fence</th>\n",
       "      <td>1179</td>\n",
       "      <td>0.807534</td>\n",
       "    </tr>\n",
       "    <tr>\n",
       "      <th>FireplaceQu</th>\n",
       "      <td>690</td>\n",
       "      <td>0.472603</td>\n",
       "    </tr>\n",
       "    <tr>\n",
       "      <th>LotFrontage</th>\n",
       "      <td>259</td>\n",
       "      <td>0.177397</td>\n",
       "    </tr>\n",
       "    <tr>\n",
       "      <th>GarageYrBlt</th>\n",
       "      <td>81</td>\n",
       "      <td>0.055479</td>\n",
       "    </tr>\n",
       "    <tr>\n",
       "      <th>GarageType</th>\n",
       "      <td>81</td>\n",
       "      <td>0.055479</td>\n",
       "    </tr>\n",
       "    <tr>\n",
       "      <th>GarageQual</th>\n",
       "      <td>81</td>\n",
       "      <td>0.055479</td>\n",
       "    </tr>\n",
       "    <tr>\n",
       "      <th>GarageCond</th>\n",
       "      <td>81</td>\n",
       "      <td>0.055479</td>\n",
       "    </tr>\n",
       "    <tr>\n",
       "      <th>GarageFinish</th>\n",
       "      <td>81</td>\n",
       "      <td>0.055479</td>\n",
       "    </tr>\n",
       "    <tr>\n",
       "      <th>BsmtFinType2</th>\n",
       "      <td>38</td>\n",
       "      <td>0.026027</td>\n",
       "    </tr>\n",
       "    <tr>\n",
       "      <th>BsmtExposure</th>\n",
       "      <td>38</td>\n",
       "      <td>0.026027</td>\n",
       "    </tr>\n",
       "    <tr>\n",
       "      <th>BsmtCond</th>\n",
       "      <td>37</td>\n",
       "      <td>0.025342</td>\n",
       "    </tr>\n",
       "    <tr>\n",
       "      <th>BsmtFinType1</th>\n",
       "      <td>37</td>\n",
       "      <td>0.025342</td>\n",
       "    </tr>\n",
       "    <tr>\n",
       "      <th>BsmtQual</th>\n",
       "      <td>37</td>\n",
       "      <td>0.025342</td>\n",
       "    </tr>\n",
       "    <tr>\n",
       "      <th>MasVnrArea</th>\n",
       "      <td>8</td>\n",
       "      <td>0.005479</td>\n",
       "    </tr>\n",
       "    <tr>\n",
       "      <th>MasVnrType</th>\n",
       "      <td>8</td>\n",
       "      <td>0.005479</td>\n",
       "    </tr>\n",
       "    <tr>\n",
       "      <th>Electrical</th>\n",
       "      <td>1</td>\n",
       "      <td>0.000685</td>\n",
       "    </tr>\n",
       "  </tbody>\n",
       "</table>\n",
       "</div>"
      ],
      "text/plain": [
       "              Total   Percent\n",
       "PoolQC         1453  0.995205\n",
       "MiscFeature    1406  0.963014\n",
       "Alley          1369  0.937671\n",
       "Fence          1179  0.807534\n",
       "FireplaceQu     690  0.472603\n",
       "LotFrontage     259  0.177397\n",
       "GarageYrBlt      81  0.055479\n",
       "GarageType       81  0.055479\n",
       "GarageQual       81  0.055479\n",
       "GarageCond       81  0.055479\n",
       "GarageFinish     81  0.055479\n",
       "BsmtFinType2     38  0.026027\n",
       "BsmtExposure     38  0.026027\n",
       "BsmtCond         37  0.025342\n",
       "BsmtFinType1     37  0.025342\n",
       "BsmtQual         37  0.025342\n",
       "MasVnrArea        8  0.005479\n",
       "MasVnrType        8  0.005479\n",
       "Electrical        1  0.000685"
      ]
     },
     "execution_count": 5,
     "metadata": {},
     "output_type": "execute_result"
    }
   ],
   "source": [
    "missing_data = utils.missing_data(df)\n",
    "missing_data_t = missing_data[missing_data['Total']>0]\n",
    "missing_data_t"
   ]
  },
  {
   "cell_type": "code",
   "execution_count": 6,
   "metadata": {
    "hidden": true
   },
   "outputs": [
    {
     "name": "stdout",
     "output_type": "stream",
     "text": [
      "PoolQC : \t [nan 'Ex' 'Fa' 'Gd']\n",
      "MiscFeature : \t [nan 'Shed' 'Gar2' 'Othr' 'TenC']\n",
      "Alley : \t [nan 'Grvl' 'Pave']\n",
      "Fence : \t [nan 'MnPrv' 'GdWo' 'GdPrv' 'MnWw']\n",
      "FireplaceQu : \t [nan 'TA' 'Gd' 'Fa' 'Ex' 'Po']\n",
      "LotFrontage : \t [ 65.  80.  68.  60.  84.  85.  75.  nan  51.  50.  70.  91.  72.  66.\n",
      " 101.  57.  44. 110.  98.  47. 108. 112.  74. 115.  61.  48.  33.  52.\n",
      " 100.  24.  89.  63.  76.  81.  95.  69.  21.  32.  78. 121. 122.  40.\n",
      " 105.  73.  77.  64.  94.  34.  90.  55.  88.  82.  71. 120. 107.  92.\n",
      " 134.  62.  86. 141.  97.  54.  41.  79. 174.  99.  67.  83.  43. 103.\n",
      "  93.  30. 129. 140.  35.  37. 118.  87. 116. 150. 111.  49.  96.  59.\n",
      "  36.  56. 102.  58.  38. 109. 130.  53. 137.  45. 106. 104.  42.  39.\n",
      " 144. 114. 128. 149. 313. 168. 182. 138. 160. 152. 124. 153.  46.]\n",
      "GarageYrBlt : \t [2003. 1976. 2001. 1998. 2000. 1993. 2004. 1973. 1931. 1939. 1965. 2005.\n",
      " 1962. 2006. 1960. 1991. 1970. 1967. 1958. 1930. 2002. 1968. 2007. 2008.\n",
      " 1957. 1920. 1966. 1959. 1995. 1954. 1953.   nan 1983. 1977. 1997. 1985.\n",
      " 1963. 1981. 1964. 1999. 1935. 1990. 1945. 1987. 1989. 1915. 1956. 1948.\n",
      " 1974. 2009. 1950. 1961. 1921. 1900. 1979. 1951. 1969. 1936. 1975. 1971.\n",
      " 1923. 1984. 1926. 1955. 1986. 1988. 1916. 1932. 1972. 1918. 1980. 1924.\n",
      " 1996. 1940. 1949. 1994. 1910. 1978. 1982. 1992. 1925. 1941. 2010. 1927.\n",
      " 1947. 1937. 1942. 1938. 1952. 1928. 1922. 1934. 1906. 1914. 1946. 1908.\n",
      " 1929. 1933.]\n",
      "GarageType : \t ['Attchd' 'Detchd' 'BuiltIn' 'CarPort' nan 'Basment' '2Types']\n",
      "GarageQual : \t ['TA' 'Fa' 'Gd' nan 'Ex' 'Po']\n",
      "GarageCond : \t ['TA' 'Fa' nan 'Gd' 'Po' 'Ex']\n",
      "GarageFinish : \t ['RFn' 'Unf' 'Fin' nan]\n",
      "BsmtFinType2 : \t ['Unf' 'BLQ' nan 'ALQ' 'Rec' 'LwQ' 'GLQ']\n",
      "BsmtExposure : \t ['No' 'Gd' 'Mn' 'Av' nan]\n",
      "BsmtCond : \t ['TA' 'Gd' nan 'Fa' 'Po']\n",
      "BsmtFinType1 : \t ['GLQ' 'ALQ' 'Unf' 'Rec' 'BLQ' nan 'LwQ']\n",
      "BsmtQual : \t ['Gd' 'TA' 'Ex' nan 'Fa']\n",
      "MasVnrArea : \t [1.960e+02 0.000e+00 1.620e+02 3.500e+02 1.860e+02 2.400e+02 2.860e+02\n",
      " 3.060e+02 2.120e+02 1.800e+02 3.800e+02 2.810e+02 6.400e+02 2.000e+02\n",
      " 2.460e+02 1.320e+02 6.500e+02 1.010e+02 4.120e+02 2.720e+02 4.560e+02\n",
      " 1.031e+03 1.780e+02 5.730e+02 3.440e+02 2.870e+02 1.670e+02 1.115e+03\n",
      " 4.000e+01 1.040e+02 5.760e+02 4.430e+02 4.680e+02 6.600e+01 2.200e+01\n",
      " 2.840e+02 7.600e+01 2.030e+02 6.800e+01 1.830e+02 4.800e+01 2.800e+01\n",
      " 3.360e+02 6.000e+02 7.680e+02 4.800e+02 2.200e+02 1.840e+02 1.129e+03\n",
      " 1.160e+02 1.350e+02 2.660e+02 8.500e+01 3.090e+02 1.360e+02 2.880e+02\n",
      " 7.000e+01 3.200e+02 5.000e+01 1.200e+02 4.360e+02 2.520e+02 8.400e+01\n",
      " 6.640e+02 2.260e+02 3.000e+02 6.530e+02 1.120e+02 4.910e+02 2.680e+02\n",
      " 7.480e+02 9.800e+01 2.750e+02 1.380e+02 2.050e+02 2.620e+02 1.280e+02\n",
      " 2.600e+02 1.530e+02 6.400e+01 3.120e+02 1.600e+01 9.220e+02 1.420e+02\n",
      " 2.900e+02 1.270e+02 5.060e+02 2.970e+02       nan 6.040e+02 2.540e+02\n",
      " 3.600e+01 1.020e+02 4.720e+02 4.810e+02 1.080e+02 3.020e+02 1.720e+02\n",
      " 3.990e+02 2.700e+02 4.600e+01 2.100e+02 1.740e+02 3.480e+02 3.150e+02\n",
      " 2.990e+02 3.400e+02 1.660e+02 7.200e+01 3.100e+01 3.400e+01 2.380e+02\n",
      " 1.600e+03 3.650e+02 5.600e+01 1.500e+02 2.780e+02 2.560e+02 2.250e+02\n",
      " 3.700e+02 3.880e+02 1.750e+02 2.960e+02 1.460e+02 1.130e+02 1.760e+02\n",
      " 6.160e+02 3.000e+01 1.060e+02 8.700e+02 3.620e+02 5.300e+02 5.000e+02\n",
      " 5.100e+02 2.470e+02 3.050e+02 2.550e+02 1.250e+02 1.000e+02 4.320e+02\n",
      " 1.260e+02 4.730e+02 7.400e+01 1.450e+02 2.320e+02 3.760e+02 4.200e+01\n",
      " 1.610e+02 1.100e+02 1.800e+01 2.240e+02 2.480e+02 8.000e+01 3.040e+02\n",
      " 2.150e+02 7.720e+02 4.350e+02 3.780e+02 5.620e+02 1.680e+02 8.900e+01\n",
      " 2.850e+02 3.600e+02 9.400e+01 3.330e+02 9.210e+02 7.620e+02 5.940e+02\n",
      " 2.190e+02 1.880e+02 4.790e+02 5.840e+02 1.820e+02 2.500e+02 2.920e+02\n",
      " 2.450e+02 2.070e+02 8.200e+01 9.700e+01 3.350e+02 2.080e+02 4.200e+02\n",
      " 1.700e+02 4.590e+02 2.800e+02 9.900e+01 1.920e+02 2.040e+02 2.330e+02\n",
      " 1.560e+02 4.520e+02 5.130e+02 2.610e+02 1.640e+02 2.590e+02 2.090e+02\n",
      " 2.630e+02 2.160e+02 3.510e+02 6.600e+02 3.810e+02 5.400e+01 5.280e+02\n",
      " 2.580e+02 4.640e+02 5.700e+01 1.470e+02 1.170e+03 2.930e+02 6.300e+02\n",
      " 4.660e+02 1.090e+02 4.100e+01 1.600e+02 2.890e+02 6.510e+02 1.690e+02\n",
      " 9.500e+01 4.420e+02 2.020e+02 3.380e+02 8.940e+02 3.280e+02 6.730e+02\n",
      " 6.030e+02 1.000e+00 3.750e+02 9.000e+01 3.800e+01 1.570e+02 1.100e+01\n",
      " 1.400e+02 1.300e+02 1.480e+02 8.600e+02 4.240e+02 1.047e+03 2.430e+02\n",
      " 8.160e+02 3.870e+02 2.230e+02 1.580e+02 1.370e+02 1.150e+02 1.890e+02\n",
      " 2.740e+02 1.170e+02 6.000e+01 1.220e+02 9.200e+01 4.150e+02 7.600e+02\n",
      " 2.700e+01 7.500e+01 3.610e+02 1.050e+02 3.420e+02 2.980e+02 5.410e+02\n",
      " 2.360e+02 1.440e+02 4.230e+02 4.400e+01 1.510e+02 9.750e+02 4.500e+02\n",
      " 2.300e+02 5.710e+02 2.400e+01 5.300e+01 2.060e+02 1.400e+01 3.240e+02\n",
      " 2.950e+02 3.960e+02 6.700e+01 1.540e+02 4.250e+02 4.500e+01 1.378e+03\n",
      " 3.370e+02 1.490e+02 1.430e+02 5.100e+01 1.710e+02 2.340e+02 6.300e+01\n",
      " 7.660e+02 3.200e+01 8.100e+01 1.630e+02 5.540e+02 2.180e+02 6.320e+02\n",
      " 1.140e+02 5.670e+02 3.590e+02 4.510e+02 6.210e+02 7.880e+02 8.600e+01\n",
      " 7.960e+02 3.910e+02 2.280e+02 8.800e+01 1.650e+02 4.280e+02 4.100e+02\n",
      " 5.640e+02 3.680e+02 3.180e+02 5.790e+02 6.500e+01 7.050e+02 4.080e+02\n",
      " 2.440e+02 1.230e+02 3.660e+02 7.310e+02 4.480e+02 2.940e+02 3.100e+02\n",
      " 2.370e+02 4.260e+02 9.600e+01 4.380e+02 1.940e+02 1.190e+02]\n",
      "MasVnrType : \t ['BrkFace' 'None' 'Stone' 'BrkCmn' nan]\n",
      "Electrical : \t ['SBrkr' 'FuseF' 'FuseA' 'FuseP' 'Mix' nan]\n"
     ]
    }
   ],
   "source": [
    "for i in missing_data_t.index:\n",
    "    print(i, ': \\t',df[i].unique(),)"
   ]
  },
  {
   "cell_type": "code",
   "execution_count": 7,
   "metadata": {
    "hidden": true
   },
   "outputs": [],
   "source": [
    "l_col = [\"PoolQC\", \"MiscFeature\", \"Alley\", \"Fence\", \"FireplaceQu\", \n",
    "         'GarageType', 'GarageFinish', 'GarageQual', 'GarageCond','BsmtQual',\n",
    "         'BsmtCond', 'BsmtExposure', 'BsmtFinType1', 'BsmtFinType2',\"MasVnrType\",'MSSubClass']\n",
    "\n",
    "for i in l_col:\n",
    "    df[i] = df[i].fillna(\"None\")\n",
    "    \n",
    "zero_col = ['GarageYrBlt', 'GarageArea', 'GarageCars','BsmtFinSF1',\n",
    "         'BsmtFinSF2', 'BsmtUnfSF','TotalBsmtSF', 'BsmtFullBath', \n",
    "         'BsmtHalfBath',\"MasVnrArea\"]\n",
    "\n",
    "for i in zero_col:\n",
    "    df[i] = df[i].fillna(0)    \n",
    "\n",
    "mode_col = ['Electrical','MSZoning','KitchenQual','Exterior1st','Exterior2nd','SaleType']\n",
    "\n",
    "for i in mode_col:\n",
    "    df[i] = df[i].fillna(df[i].mode()[0])   \n",
    "    \n",
    "\n",
    "df[\"LotFrontage\"] = df.groupby(\"Neighborhood\")[\"LotFrontage\"].transform(\n",
    "    lambda x: x.fillna(x.median()))    \n",
    "\n",
    "df[\"Functional\"] = df[\"Functional\"].fillna(\"Typ\")\n",
    "    \n",
    "df = df.drop(['Utilities'], axis=1)\n"
   ]
  },
  {
   "cell_type": "code",
   "execution_count": 8,
   "metadata": {
    "hidden": true
   },
   "outputs": [
    {
     "data": {
      "text/html": [
       "<div>\n",
       "<style scoped>\n",
       "    .dataframe tbody tr th:only-of-type {\n",
       "        vertical-align: middle;\n",
       "    }\n",
       "\n",
       "    .dataframe tbody tr th {\n",
       "        vertical-align: top;\n",
       "    }\n",
       "\n",
       "    .dataframe thead th {\n",
       "        text-align: right;\n",
       "    }\n",
       "</style>\n",
       "<table border=\"1\" class=\"dataframe\">\n",
       "  <thead>\n",
       "    <tr style=\"text-align: right;\">\n",
       "      <th></th>\n",
       "      <th>Total</th>\n",
       "      <th>Percent</th>\n",
       "    </tr>\n",
       "  </thead>\n",
       "  <tbody>\n",
       "  </tbody>\n",
       "</table>\n",
       "</div>"
      ],
      "text/plain": [
       "Empty DataFrame\n",
       "Columns: [Total, Percent]\n",
       "Index: []"
      ]
     },
     "execution_count": 8,
     "metadata": {},
     "output_type": "execute_result"
    }
   ],
   "source": [
    "missing_data = utils.missing_data(df)\n",
    "missing_data_t = missing_data[missing_data['Total']>0]\n",
    "missing_data_t"
   ]
  },
  {
   "cell_type": "markdown",
   "metadata": {
    "heading_collapsed": true,
    "hidden": true
   },
   "source": [
    "### 1.2. Feature selection"
   ]
  },
  {
   "cell_type": "markdown",
   "metadata": {
    "hidden": true
   },
   "source": [
    "Criação de Features:\n",
    "- Total SF - Soma da área habitável total ('TotalBsmtSF' + '1stFlrSF' + '2ndFlrSF')\n",
    "- Neighbourhood mean value - Valor médio das casas dessa vizinhança\n",
    "\n",
    "Standarization dos valores numéricos\n",
    "\n",
    "Selecção das features com maior correlação com os targets ('SalePrice', 'Price3Classes')\n",
    "-  'OverallQual', 'TotalSF', 'NeighborhoodMeanValue', 'GrLivArea', 'GarageCars', 'ExterQual', 'GarageArea',\n",
    " 'TotalBsmtSF', '1stFlrSF', 'BsmtQual', 'KitchenQual', 'FullBath'"
   ]
  },
  {
   "cell_type": "markdown",
   "metadata": {
    "hidden": true
   },
   "source": [
    "#### Create Relevant Features"
   ]
  },
  {
   "cell_type": "markdown",
   "metadata": {
    "heading_collapsed": true,
    "hidden": true
   },
   "source": [
    "##### Total SF"
   ]
  },
  {
   "cell_type": "code",
   "execution_count": 9,
   "metadata": {
    "hidden": true
   },
   "outputs": [],
   "source": [
    "df['TotalSF'] = df['TotalBsmtSF'] + df['1stFlrSF'] + df['2ndFlrSF']"
   ]
  },
  {
   "cell_type": "markdown",
   "metadata": {
    "heading_collapsed": true,
    "hidden": true
   },
   "source": [
    "##### Neighbourhood mean value"
   ]
  },
  {
   "cell_type": "code",
   "execution_count": 10,
   "metadata": {
    "hidden": true
   },
   "outputs": [
    {
     "data": {
      "text/plain": [
       "array(['CollgCr', 'Veenker', 'Crawfor', 'NoRidge', 'Mitchel', 'Somerst',\n",
       "       'NWAmes', 'OldTown', 'BrkSide', 'Sawyer', 'NridgHt', 'NAmes',\n",
       "       'SawyerW', 'IDOTRR', 'MeadowV', 'Edwards', 'Timber', 'Gilbert',\n",
       "       'StoneBr', 'ClearCr', 'NPkVill', 'Blmngtn', 'BrDale', 'SWISU',\n",
       "       'Blueste'], dtype=object)"
      ]
     },
     "execution_count": 10,
     "metadata": {},
     "output_type": "execute_result"
    }
   ],
   "source": [
    "df['Neighborhood'].unique()"
   ]
  },
  {
   "cell_type": "code",
   "execution_count": 11,
   "metadata": {
    "hidden": true
   },
   "outputs": [],
   "source": [
    "df['NeighborhoodMeanValue'] = df.groupby(['Neighborhood'])[\"SalePrice\"].transform('mean')"
   ]
  },
  {
   "cell_type": "markdown",
   "metadata": {
    "heading_collapsed": true,
    "hidden": true
   },
   "source": [
    "#### Standarization"
   ]
  },
  {
   "cell_type": "code",
   "execution_count": 12,
   "metadata": {
    "hidden": true
   },
   "outputs": [],
   "source": [
    "df['MoSold'] = df['MoSold'].astype(str)"
   ]
  },
  {
   "cell_type": "code",
   "execution_count": 13,
   "metadata": {
    "hidden": true
   },
   "outputs": [],
   "source": [
    "for i in df.columns:\n",
    "    if df[i].dtypes == \"object\":\n",
    "        df[i] = df[i].astype(\"category\").cat.codes\n",
    "    elif i != \"SalePrice\" and i != \"Price3Classes\":\n",
    "        df[i] = preprocessing.scale(df[i])\n"
   ]
  },
  {
   "cell_type": "code",
   "execution_count": 14,
   "metadata": {
    "hidden": true
   },
   "outputs": [
    {
     "data": {
      "text/html": [
       "<div>\n",
       "<style scoped>\n",
       "    .dataframe tbody tr th:only-of-type {\n",
       "        vertical-align: middle;\n",
       "    }\n",
       "\n",
       "    .dataframe tbody tr th {\n",
       "        vertical-align: top;\n",
       "    }\n",
       "\n",
       "    .dataframe thead th {\n",
       "        text-align: right;\n",
       "    }\n",
       "</style>\n",
       "<table border=\"1\" class=\"dataframe\">\n",
       "  <thead>\n",
       "    <tr style=\"text-align: right;\">\n",
       "      <th></th>\n",
       "      <th>MSSubClass</th>\n",
       "      <th>MSZoning</th>\n",
       "      <th>LotFrontage</th>\n",
       "      <th>LotArea</th>\n",
       "      <th>Street</th>\n",
       "      <th>Alley</th>\n",
       "      <th>LotShape</th>\n",
       "      <th>LandContour</th>\n",
       "      <th>LotConfig</th>\n",
       "      <th>LandSlope</th>\n",
       "      <th>...</th>\n",
       "      <th>MiscFeature</th>\n",
       "      <th>MiscVal</th>\n",
       "      <th>MoSold</th>\n",
       "      <th>YrSold</th>\n",
       "      <th>SaleType</th>\n",
       "      <th>SaleCondition</th>\n",
       "      <th>SalePrice</th>\n",
       "      <th>Price3Classes</th>\n",
       "      <th>TotalSF</th>\n",
       "      <th>NeighborhoodMeanValue</th>\n",
       "    </tr>\n",
       "  </thead>\n",
       "  <tbody>\n",
       "    <tr>\n",
       "      <th>0</th>\n",
       "      <td>0.073375</td>\n",
       "      <td>3</td>\n",
       "      <td>-0.231877</td>\n",
       "      <td>-0.207142</td>\n",
       "      <td>1</td>\n",
       "      <td>1</td>\n",
       "      <td>3</td>\n",
       "      <td>3</td>\n",
       "      <td>4</td>\n",
       "      <td>0</td>\n",
       "      <td>...</td>\n",
       "      <td>1</td>\n",
       "      <td>-0.087688</td>\n",
       "      <td>4</td>\n",
       "      <td>0.138777</td>\n",
       "      <td>8</td>\n",
       "      <td>4</td>\n",
       "      <td>208500</td>\n",
       "      <td>2</td>\n",
       "      <td>-0.001277</td>\n",
       "      <td>0.290573</td>\n",
       "    </tr>\n",
       "    <tr>\n",
       "      <th>1</th>\n",
       "      <td>-0.872563</td>\n",
       "      <td>3</td>\n",
       "      <td>0.437043</td>\n",
       "      <td>-0.091886</td>\n",
       "      <td>1</td>\n",
       "      <td>1</td>\n",
       "      <td>3</td>\n",
       "      <td>3</td>\n",
       "      <td>2</td>\n",
       "      <td>0</td>\n",
       "      <td>...</td>\n",
       "      <td>1</td>\n",
       "      <td>-0.087688</td>\n",
       "      <td>7</td>\n",
       "      <td>-0.614439</td>\n",
       "      <td>8</td>\n",
       "      <td>4</td>\n",
       "      <td>181500</td>\n",
       "      <td>0</td>\n",
       "      <td>-0.052407</td>\n",
       "      <td>0.986242</td>\n",
       "    </tr>\n",
       "    <tr>\n",
       "      <th>2</th>\n",
       "      <td>0.073375</td>\n",
       "      <td>3</td>\n",
       "      <td>-0.098093</td>\n",
       "      <td>0.073480</td>\n",
       "      <td>1</td>\n",
       "      <td>1</td>\n",
       "      <td>0</td>\n",
       "      <td>3</td>\n",
       "      <td>4</td>\n",
       "      <td>0</td>\n",
       "      <td>...</td>\n",
       "      <td>1</td>\n",
       "      <td>-0.087688</td>\n",
       "      <td>11</td>\n",
       "      <td>0.138777</td>\n",
       "      <td>8</td>\n",
       "      <td>4</td>\n",
       "      <td>223500</td>\n",
       "      <td>2</td>\n",
       "      <td>0.169157</td>\n",
       "      <td>0.290573</td>\n",
       "    </tr>\n",
       "    <tr>\n",
       "      <th>3</th>\n",
       "      <td>0.309859</td>\n",
       "      <td>3</td>\n",
       "      <td>-0.454850</td>\n",
       "      <td>-0.096897</td>\n",
       "      <td>1</td>\n",
       "      <td>1</td>\n",
       "      <td>0</td>\n",
       "      <td>3</td>\n",
       "      <td>0</td>\n",
       "      <td>0</td>\n",
       "      <td>...</td>\n",
       "      <td>1</td>\n",
       "      <td>-0.087688</td>\n",
       "      <td>4</td>\n",
       "      <td>-1.367655</td>\n",
       "      <td>8</td>\n",
       "      <td>0</td>\n",
       "      <td>140000</td>\n",
       "      <td>0</td>\n",
       "      <td>-0.114493</td>\n",
       "      <td>0.506380</td>\n",
       "    </tr>\n",
       "    <tr>\n",
       "      <th>4</th>\n",
       "      <td>0.073375</td>\n",
       "      <td>3</td>\n",
       "      <td>0.615421</td>\n",
       "      <td>0.375148</td>\n",
       "      <td>1</td>\n",
       "      <td>1</td>\n",
       "      <td>0</td>\n",
       "      <td>3</td>\n",
       "      <td>2</td>\n",
       "      <td>0</td>\n",
       "      <td>...</td>\n",
       "      <td>1</td>\n",
       "      <td>-0.087688</td>\n",
       "      <td>3</td>\n",
       "      <td>0.138777</td>\n",
       "      <td>8</td>\n",
       "      <td>4</td>\n",
       "      <td>250000</td>\n",
       "      <td>2</td>\n",
       "      <td>0.944631</td>\n",
       "      <td>2.631741</td>\n",
       "    </tr>\n",
       "    <tr>\n",
       "      <th>...</th>\n",
       "      <td>...</td>\n",
       "      <td>...</td>\n",
       "      <td>...</td>\n",
       "      <td>...</td>\n",
       "      <td>...</td>\n",
       "      <td>...</td>\n",
       "      <td>...</td>\n",
       "      <td>...</td>\n",
       "      <td>...</td>\n",
       "      <td>...</td>\n",
       "      <td>...</td>\n",
       "      <td>...</td>\n",
       "      <td>...</td>\n",
       "      <td>...</td>\n",
       "      <td>...</td>\n",
       "      <td>...</td>\n",
       "      <td>...</td>\n",
       "      <td>...</td>\n",
       "      <td>...</td>\n",
       "      <td>...</td>\n",
       "      <td>...</td>\n",
       "    </tr>\n",
       "    <tr>\n",
       "      <th>1455</th>\n",
       "      <td>0.073375</td>\n",
       "      <td>3</td>\n",
       "      <td>-0.365661</td>\n",
       "      <td>-0.260560</td>\n",
       "      <td>1</td>\n",
       "      <td>1</td>\n",
       "      <td>3</td>\n",
       "      <td>3</td>\n",
       "      <td>4</td>\n",
       "      <td>0</td>\n",
       "      <td>...</td>\n",
       "      <td>1</td>\n",
       "      <td>-0.087688</td>\n",
       "      <td>10</td>\n",
       "      <td>-0.614439</td>\n",
       "      <td>8</td>\n",
       "      <td>4</td>\n",
       "      <td>175000</td>\n",
       "      <td>0</td>\n",
       "      <td>0.040114</td>\n",
       "      <td>0.203437</td>\n",
       "    </tr>\n",
       "    <tr>\n",
       "      <th>1456</th>\n",
       "      <td>-0.872563</td>\n",
       "      <td>3</td>\n",
       "      <td>0.660016</td>\n",
       "      <td>0.266407</td>\n",
       "      <td>1</td>\n",
       "      <td>1</td>\n",
       "      <td>3</td>\n",
       "      <td>3</td>\n",
       "      <td>4</td>\n",
       "      <td>0</td>\n",
       "      <td>...</td>\n",
       "      <td>1</td>\n",
       "      <td>-0.087688</td>\n",
       "      <td>4</td>\n",
       "      <td>1.645210</td>\n",
       "      <td>8</td>\n",
       "      <td>4</td>\n",
       "      <td>210000</td>\n",
       "      <td>2</td>\n",
       "      <td>1.275760</td>\n",
       "      <td>0.138579</td>\n",
       "    </tr>\n",
       "    <tr>\n",
       "      <th>1457</th>\n",
       "      <td>0.309859</td>\n",
       "      <td>3</td>\n",
       "      <td>-0.187282</td>\n",
       "      <td>-0.147810</td>\n",
       "      <td>1</td>\n",
       "      <td>1</td>\n",
       "      <td>3</td>\n",
       "      <td>3</td>\n",
       "      <td>4</td>\n",
       "      <td>0</td>\n",
       "      <td>...</td>\n",
       "      <td>3</td>\n",
       "      <td>4.953112</td>\n",
       "      <td>7</td>\n",
       "      <td>1.645210</td>\n",
       "      <td>8</td>\n",
       "      <td>4</td>\n",
       "      <td>266500</td>\n",
       "      <td>2</td>\n",
       "      <td>1.126022</td>\n",
       "      <td>0.506380</td>\n",
       "    </tr>\n",
       "    <tr>\n",
       "      <th>1458</th>\n",
       "      <td>-0.872563</td>\n",
       "      <td>3</td>\n",
       "      <td>-0.098093</td>\n",
       "      <td>-0.080160</td>\n",
       "      <td>1</td>\n",
       "      <td>1</td>\n",
       "      <td>3</td>\n",
       "      <td>3</td>\n",
       "      <td>4</td>\n",
       "      <td>0</td>\n",
       "      <td>...</td>\n",
       "      <td>1</td>\n",
       "      <td>-0.087688</td>\n",
       "      <td>6</td>\n",
       "      <td>1.645210</td>\n",
       "      <td>8</td>\n",
       "      <td>4</td>\n",
       "      <td>142125</td>\n",
       "      <td>0</td>\n",
       "      <td>-0.500404</td>\n",
       "      <td>-0.597937</td>\n",
       "    </tr>\n",
       "    <tr>\n",
       "      <th>1459</th>\n",
       "      <td>-0.872563</td>\n",
       "      <td>3</td>\n",
       "      <td>0.214070</td>\n",
       "      <td>-0.058112</td>\n",
       "      <td>1</td>\n",
       "      <td>1</td>\n",
       "      <td>3</td>\n",
       "      <td>3</td>\n",
       "      <td>4</td>\n",
       "      <td>0</td>\n",
       "      <td>...</td>\n",
       "      <td>1</td>\n",
       "      <td>-0.087688</td>\n",
       "      <td>8</td>\n",
       "      <td>0.138777</td>\n",
       "      <td>8</td>\n",
       "      <td>4</td>\n",
       "      <td>147500</td>\n",
       "      <td>0</td>\n",
       "      <td>-0.067015</td>\n",
       "      <td>-0.898445</td>\n",
       "    </tr>\n",
       "  </tbody>\n",
       "</table>\n",
       "<p>1460 rows × 82 columns</p>\n",
       "</div>"
      ],
      "text/plain": [
       "      MSSubClass  MSZoning  LotFrontage   LotArea  Street  Alley  LotShape  \\\n",
       "0       0.073375         3    -0.231877 -0.207142       1      1         3   \n",
       "1      -0.872563         3     0.437043 -0.091886       1      1         3   \n",
       "2       0.073375         3    -0.098093  0.073480       1      1         0   \n",
       "3       0.309859         3    -0.454850 -0.096897       1      1         0   \n",
       "4       0.073375         3     0.615421  0.375148       1      1         0   \n",
       "...          ...       ...          ...       ...     ...    ...       ...   \n",
       "1455    0.073375         3    -0.365661 -0.260560       1      1         3   \n",
       "1456   -0.872563         3     0.660016  0.266407       1      1         3   \n",
       "1457    0.309859         3    -0.187282 -0.147810       1      1         3   \n",
       "1458   -0.872563         3    -0.098093 -0.080160       1      1         3   \n",
       "1459   -0.872563         3     0.214070 -0.058112       1      1         3   \n",
       "\n",
       "      LandContour  LotConfig  LandSlope  ...  MiscFeature   MiscVal  MoSold  \\\n",
       "0               3          4          0  ...            1 -0.087688       4   \n",
       "1               3          2          0  ...            1 -0.087688       7   \n",
       "2               3          4          0  ...            1 -0.087688      11   \n",
       "3               3          0          0  ...            1 -0.087688       4   \n",
       "4               3          2          0  ...            1 -0.087688       3   \n",
       "...           ...        ...        ...  ...          ...       ...     ...   \n",
       "1455            3          4          0  ...            1 -0.087688      10   \n",
       "1456            3          4          0  ...            1 -0.087688       4   \n",
       "1457            3          4          0  ...            3  4.953112       7   \n",
       "1458            3          4          0  ...            1 -0.087688       6   \n",
       "1459            3          4          0  ...            1 -0.087688       8   \n",
       "\n",
       "        YrSold  SaleType  SaleCondition  SalePrice  Price3Classes   TotalSF  \\\n",
       "0     0.138777         8              4     208500              2 -0.001277   \n",
       "1    -0.614439         8              4     181500              0 -0.052407   \n",
       "2     0.138777         8              4     223500              2  0.169157   \n",
       "3    -1.367655         8              0     140000              0 -0.114493   \n",
       "4     0.138777         8              4     250000              2  0.944631   \n",
       "...        ...       ...            ...        ...            ...       ...   \n",
       "1455 -0.614439         8              4     175000              0  0.040114   \n",
       "1456  1.645210         8              4     210000              2  1.275760   \n",
       "1457  1.645210         8              4     266500              2  1.126022   \n",
       "1458  1.645210         8              4     142125              0 -0.500404   \n",
       "1459  0.138777         8              4     147500              0 -0.067015   \n",
       "\n",
       "      NeighborhoodMeanValue  \n",
       "0                  0.290573  \n",
       "1                  0.986242  \n",
       "2                  0.290573  \n",
       "3                  0.506380  \n",
       "4                  2.631741  \n",
       "...                     ...  \n",
       "1455               0.203437  \n",
       "1456               0.138579  \n",
       "1457               0.506380  \n",
       "1458              -0.597937  \n",
       "1459              -0.898445  \n",
       "\n",
       "[1460 rows x 82 columns]"
      ]
     },
     "execution_count": 14,
     "metadata": {},
     "output_type": "execute_result"
    }
   ],
   "source": [
    "df"
   ]
  },
  {
   "cell_type": "markdown",
   "metadata": {
    "heading_collapsed": true,
    "hidden": true
   },
   "source": [
    "#### Filter Features"
   ]
  },
  {
   "cell_type": "code",
   "execution_count": 15,
   "metadata": {
    "hidden": true
   },
   "outputs": [
    {
     "data": {
      "image/png": "[encoded data removed]",
      "text/plain": [
       "<Figure size 864x720 with 2 Axes>"
      ]
     },
     "metadata": {
      "needs_background": "light"
     },
     "output_type": "display_data"
    }
   ],
   "source": [
    "#Using Pearson Correlation\n",
    "plt.figure(figsize=(12,10))\n",
    "cor = df.corr()\n",
    "sns.heatmap(cor, annot=False, cmap=plt.cm.Reds)\n",
    "plt.show()"
   ]
  },
  {
   "cell_type": "code",
   "execution_count": 16,
   "metadata": {
    "hidden": true
   },
   "outputs": [
    {
     "data": {
      "text/html": [
       "<div>\n",
       "<style scoped>\n",
       "    .dataframe tbody tr th:only-of-type {\n",
       "        vertical-align: middle;\n",
       "    }\n",
       "\n",
       "    .dataframe tbody tr th {\n",
       "        vertical-align: top;\n",
       "    }\n",
       "\n",
       "    .dataframe thead th {\n",
       "        text-align: right;\n",
       "    }\n",
       "</style>\n",
       "<table border=\"1\" class=\"dataframe\">\n",
       "  <thead>\n",
       "    <tr style=\"text-align: right;\">\n",
       "      <th></th>\n",
       "      <th>correlation</th>\n",
       "    </tr>\n",
       "  </thead>\n",
       "  <tbody>\n",
       "    <tr>\n",
       "      <th>SalePrice</th>\n",
       "      <td>1.000000</td>\n",
       "    </tr>\n",
       "    <tr>\n",
       "      <th>OverallQual</th>\n",
       "      <td>0.790982</td>\n",
       "    </tr>\n",
       "    <tr>\n",
       "      <th>TotalSF</th>\n",
       "      <td>0.782260</td>\n",
       "    </tr>\n",
       "    <tr>\n",
       "      <th>NeighborhoodMeanValue</th>\n",
       "      <td>0.738630</td>\n",
       "    </tr>\n",
       "    <tr>\n",
       "      <th>GrLivArea</th>\n",
       "      <td>0.708624</td>\n",
       "    </tr>\n",
       "    <tr>\n",
       "      <th>Price3Classes</th>\n",
       "      <td>0.703714</td>\n",
       "    </tr>\n",
       "    <tr>\n",
       "      <th>GarageCars</th>\n",
       "      <td>0.640409</td>\n",
       "    </tr>\n",
       "    <tr>\n",
       "      <th>ExterQual</th>\n",
       "      <td>0.636884</td>\n",
       "    </tr>\n",
       "    <tr>\n",
       "      <th>GarageArea</th>\n",
       "      <td>0.623431</td>\n",
       "    </tr>\n",
       "    <tr>\n",
       "      <th>TotalBsmtSF</th>\n",
       "      <td>0.613581</td>\n",
       "    </tr>\n",
       "    <tr>\n",
       "      <th>1stFlrSF</th>\n",
       "      <td>0.605852</td>\n",
       "    </tr>\n",
       "    <tr>\n",
       "      <th>BsmtQual</th>\n",
       "      <td>0.593734</td>\n",
       "    </tr>\n",
       "  </tbody>\n",
       "</table>\n",
       "</div>"
      ],
      "text/plain": [
       "                       correlation\n",
       "SalePrice                 1.000000\n",
       "OverallQual               0.790982\n",
       "TotalSF                   0.782260\n",
       "NeighborhoodMeanValue     0.738630\n",
       "GrLivArea                 0.708624\n",
       "Price3Classes             0.703714\n",
       "GarageCars                0.640409\n",
       "ExterQual                 0.636884\n",
       "GarageArea                0.623431\n",
       "TotalBsmtSF               0.613581\n",
       "1stFlrSF                  0.605852\n",
       "BsmtQual                  0.593734"
      ]
     },
     "execution_count": 16,
     "metadata": {},
     "output_type": "execute_result"
    }
   ],
   "source": [
    "cor_target = abs(cor[\"SalePrice\"])\n",
    "ft1 = pd.DataFrame(cor_target.sort_values(ascending=False)).head(12)\n",
    "ft1 = ft1.rename(columns={\"SalePrice\": \"correlation\"})\n",
    "ft1"
   ]
  },
  {
   "cell_type": "code",
   "execution_count": 17,
   "metadata": {
    "hidden": true
   },
   "outputs": [
    {
     "data": {
      "text/html": [
       "<div>\n",
       "<style scoped>\n",
       "    .dataframe tbody tr th:only-of-type {\n",
       "        vertical-align: middle;\n",
       "    }\n",
       "\n",
       "    .dataframe tbody tr th {\n",
       "        vertical-align: top;\n",
       "    }\n",
       "\n",
       "    .dataframe thead th {\n",
       "        text-align: right;\n",
       "    }\n",
       "</style>\n",
       "<table border=\"1\" class=\"dataframe\">\n",
       "  <thead>\n",
       "    <tr style=\"text-align: right;\">\n",
       "      <th></th>\n",
       "      <th>correlation</th>\n",
       "    </tr>\n",
       "  </thead>\n",
       "  <tbody>\n",
       "    <tr>\n",
       "      <th>Price3Classes</th>\n",
       "      <td>1.000000</td>\n",
       "    </tr>\n",
       "    <tr>\n",
       "      <th>SalePrice</th>\n",
       "      <td>0.703714</td>\n",
       "    </tr>\n",
       "    <tr>\n",
       "      <th>OverallQual</th>\n",
       "      <td>0.626022</td>\n",
       "    </tr>\n",
       "    <tr>\n",
       "      <th>TotalSF</th>\n",
       "      <td>0.595971</td>\n",
       "    </tr>\n",
       "    <tr>\n",
       "      <th>NeighborhoodMeanValue</th>\n",
       "      <td>0.585339</td>\n",
       "    </tr>\n",
       "    <tr>\n",
       "      <th>GrLivArea</th>\n",
       "      <td>0.546773</td>\n",
       "    </tr>\n",
       "    <tr>\n",
       "      <th>ExterQual</th>\n",
       "      <td>0.505521</td>\n",
       "    </tr>\n",
       "    <tr>\n",
       "      <th>GarageCars</th>\n",
       "      <td>0.488532</td>\n",
       "    </tr>\n",
       "    <tr>\n",
       "      <th>GarageArea</th>\n",
       "      <td>0.488424</td>\n",
       "    </tr>\n",
       "    <tr>\n",
       "      <th>BsmtQual</th>\n",
       "      <td>0.481285</td>\n",
       "    </tr>\n",
       "    <tr>\n",
       "      <th>KitchenQual</th>\n",
       "      <td>0.472012</td>\n",
       "    </tr>\n",
       "    <tr>\n",
       "      <th>FullBath</th>\n",
       "      <td>0.471183</td>\n",
       "    </tr>\n",
       "  </tbody>\n",
       "</table>\n",
       "</div>"
      ],
      "text/plain": [
       "                       correlation\n",
       "Price3Classes             1.000000\n",
       "SalePrice                 0.703714\n",
       "OverallQual               0.626022\n",
       "TotalSF                   0.595971\n",
       "NeighborhoodMeanValue     0.585339\n",
       "GrLivArea                 0.546773\n",
       "ExterQual                 0.505521\n",
       "GarageCars                0.488532\n",
       "GarageArea                0.488424\n",
       "BsmtQual                  0.481285\n",
       "KitchenQual               0.472012\n",
       "FullBath                  0.471183"
      ]
     },
     "execution_count": 17,
     "metadata": {},
     "output_type": "execute_result"
    }
   ],
   "source": [
    "cor_target_classes = abs(cor[\"Price3Classes\"])\n",
    "ft2 = pd.DataFrame(cor_target_classes.sort_values(ascending=False)).head(12)\n",
    "ft2 = ft2.rename(columns={\"Price3Classes\": \"correlation\"})\n",
    "ft2"
   ]
  },
  {
   "cell_type": "code",
   "execution_count": 18,
   "metadata": {
    "hidden": true
   },
   "outputs": [
    {
     "data": {
      "text/plain": [
       "['SalePrice',\n",
       " 'OverallQual',\n",
       " 'TotalSF',\n",
       " 'NeighborhoodMeanValue',\n",
       " 'GrLivArea',\n",
       " 'Price3Classes',\n",
       " 'GarageCars',\n",
       " 'ExterQual',\n",
       " 'GarageArea',\n",
       " 'TotalBsmtSF',\n",
       " '1stFlrSF',\n",
       " 'BsmtQual',\n",
       " 'KitchenQual',\n",
       " 'FullBath']"
      ]
     },
     "execution_count": 18,
     "metadata": {},
     "output_type": "execute_result"
    }
   ],
   "source": [
    "ft = pd.concat([ft1,ft2])\n",
    "features = ft.index.to_list()\n",
    "features = list(dict.fromkeys(features))\n",
    "features"
   ]
  },
  {
   "cell_type": "code",
   "execution_count": 19,
   "metadata": {
    "hidden": true
   },
   "outputs": [],
   "source": [
    "df = df[features]"
   ]
  },
  {
   "cell_type": "markdown",
   "metadata": {
    "heading_collapsed": true,
    "hidden": true
   },
   "source": [
    "### 1.3 Class Imbalance"
   ]
  },
  {
   "cell_type": "markdown",
   "metadata": {
    "hidden": true
   },
   "source": [
    "Under-Sampling da classe maioritária através de cluster centroids\n",
    "Over-Sampling da classe menor através de SMOTE\n",
    "Ficando assim o dataset distribuido com 407 entradas de cada classe.\n",
    "\n",
    "\n",
    "Split do Dataset em treino/teste"
   ]
  },
  {
   "cell_type": "markdown",
   "metadata": {
    "hidden": true
   },
   "source": [
    "0  -  \"<200000\"   \n",
    "\n",
    "1  -  \">400000\"\n",
    "\n",
    "2  -  \"[200000,400000]\""
   ]
  },
  {
   "cell_type": "code",
   "execution_count": 20,
   "metadata": {
    "hidden": true
   },
   "outputs": [
    {
     "data": {
      "text/plain": [
       "0    1025\n",
       "2     407\n",
       "1      28\n",
       "Name: Price3Classes, dtype: int64"
      ]
     },
     "execution_count": 20,
     "metadata": {},
     "output_type": "execute_result"
    }
   ],
   "source": [
    "df.Price3Classes.value_counts()"
   ]
  },
  {
   "cell_type": "code",
   "execution_count": 21,
   "metadata": {
    "hidden": true
   },
   "outputs": [],
   "source": [
    "df0 = df[df[\"Price3Classes\"]==0]\n",
    "df1 = df[df[\"Price3Classes\"]==1]\n",
    "df2 = df[df[\"Price3Classes\"]==2]"
   ]
  },
  {
   "cell_type": "markdown",
   "metadata": {
    "hidden": true
   },
   "source": [
    "#### Under-sampling: Cluster Centroids"
   ]
  },
  {
   "cell_type": "code",
   "execution_count": 22,
   "metadata": {
    "hidden": true
   },
   "outputs": [
    {
     "name": "stderr",
     "output_type": "stream",
     "text": [
      "Using TensorFlow backend.\n",
      "C:\\Users\\Miguel\\Anaconda3\\lib\\site-packages\\tensorflow\\python\\framework\\dtypes.py:526: FutureWarning: Passing (type, 1) or '1type' as a synonym of type is deprecated; in a future version of numpy, it will be understood as (type, (1,)) / '(1,)type'.\n",
      "  _np_qint8 = np.dtype([(\"qint8\", np.int8, 1)])\n",
      "C:\\Users\\Miguel\\Anaconda3\\lib\\site-packages\\tensorflow\\python\\framework\\dtypes.py:527: FutureWarning: Passing (type, 1) or '1type' as a synonym of type is deprecated; in a future version of numpy, it will be understood as (type, (1,)) / '(1,)type'.\n",
      "  _np_quint8 = np.dtype([(\"quint8\", np.uint8, 1)])\n",
      "C:\\Users\\Miguel\\Anaconda3\\lib\\site-packages\\tensorflow\\python\\framework\\dtypes.py:528: FutureWarning: Passing (type, 1) or '1type' as a synonym of type is deprecated; in a future version of numpy, it will be understood as (type, (1,)) / '(1,)type'.\n",
      "  _np_qint16 = np.dtype([(\"qint16\", np.int16, 1)])\n",
      "C:\\Users\\Miguel\\Anaconda3\\lib\\site-packages\\tensorflow\\python\\framework\\dtypes.py:529: FutureWarning: Passing (type, 1) or '1type' as a synonym of type is deprecated; in a future version of numpy, it will be understood as (type, (1,)) / '(1,)type'.\n",
      "  _np_quint16 = np.dtype([(\"quint16\", np.uint16, 1)])\n",
      "C:\\Users\\Miguel\\Anaconda3\\lib\\site-packages\\tensorflow\\python\\framework\\dtypes.py:530: FutureWarning: Passing (type, 1) or '1type' as a synonym of type is deprecated; in a future version of numpy, it will be understood as (type, (1,)) / '(1,)type'.\n",
      "  _np_qint32 = np.dtype([(\"qint32\", np.int32, 1)])\n",
      "C:\\Users\\Miguel\\Anaconda3\\lib\\site-packages\\tensorflow\\python\\framework\\dtypes.py:535: FutureWarning: Passing (type, 1) or '1type' as a synonym of type is deprecated; in a future version of numpy, it will be understood as (type, (1,)) / '(1,)type'.\n",
      "  np_resource = np.dtype([(\"resource\", np.ubyte, 1)])\n"
     ]
    },
    {
     "data": {
      "text/plain": [
       "2    407\n",
       "0    407\n",
       "Name: Price3Classes, dtype: int64"
      ]
     },
     "execution_count": 22,
     "metadata": {},
     "output_type": "execute_result"
    }
   ],
   "source": [
    "from imblearn.under_sampling import ClusterCentroids\n",
    "\n",
    "X = pd.concat([df0,df2])\n",
    "\n",
    "y_r = X[\"Price3Classes\"] \n",
    "\n",
    "\n",
    "X= X.drop([\"Price3Classes\"], axis=1)\n",
    "\n",
    "cc = ClusterCentroids()\n",
    "X_cc, y_cc = cc.fit_sample(X, y_r)\n",
    "\n",
    "y_cc.value_counts()"
   ]
  },
  {
   "cell_type": "code",
   "execution_count": 23,
   "metadata": {
    "hidden": true
   },
   "outputs": [],
   "source": [
    "X_cc[\"Price3Classes\"] = y_cc"
   ]
  },
  {
   "cell_type": "code",
   "execution_count": 24,
   "metadata": {
    "hidden": true
   },
   "outputs": [],
   "source": [
    "X =pd.concat([X_cc,df1])"
   ]
  },
  {
   "cell_type": "markdown",
   "metadata": {
    "hidden": true
   },
   "source": [
    "#### Over-sampling - SMOTE"
   ]
  },
  {
   "cell_type": "code",
   "execution_count": 25,
   "metadata": {
    "hidden": true
   },
   "outputs": [],
   "source": [
    "# check version number\n",
    "from imblearn.over_sampling import SMOTE\n",
    "\n",
    "y = X[\"Price3Classes\"] \n",
    "\n",
    "X= X.drop([\"Price3Classes\"], axis=1)\n",
    "\n",
    "oversample = SMOTE()\n",
    "X, y = oversample.fit_resample(X, y)"
   ]
  },
  {
   "cell_type": "code",
   "execution_count": 26,
   "metadata": {
    "hidden": true
   },
   "outputs": [
    {
     "data": {
      "text/plain": [
       "2    407\n",
       "1    407\n",
       "0    407\n",
       "Name: Price3Classes, dtype: int64"
      ]
     },
     "execution_count": 26,
     "metadata": {},
     "output_type": "execute_result"
    }
   ],
   "source": [
    "y.value_counts()"
   ]
  },
  {
   "cell_type": "markdown",
   "metadata": {
    "hidden": true
   },
   "source": [
    "#### Split data to train/test"
   ]
  },
  {
   "cell_type": "code",
   "execution_count": 27,
   "metadata": {
    "hidden": true
   },
   "outputs": [],
   "source": [
    "X_train, X_test, y_train, y_test = train_test_split(X, y, test_size=0.30, random_state=42)"
   ]
  },
  {
   "cell_type": "code",
   "execution_count": 28,
   "metadata": {
    "hidden": true
   },
   "outputs": [],
   "source": [
    "y_train_r = X_train[\"SalePrice\"]\n",
    "y_test_r  = X_test[\"SalePrice\"]\n",
    "\n",
    "X_train = X_train.drop([\"SalePrice\"], axis=1)\n",
    "X_test  = X_test.drop([\"SalePrice\"], axis=1)"
   ]
  },
  {
   "cell_type": "code",
   "execution_count": 29,
   "metadata": {
    "hidden": true
   },
   "outputs": [
    {
     "data": {
      "image/png": "[encoded data removed]",
      "text/plain": [
       "<Figure size 432x288 with 1 Axes>"
      ]
     },
     "metadata": {
      "needs_background": "light"
     },
     "output_type": "display_data"
    },
    {
     "data": {
      "image/png": "[encoded data removed]",
      "text/plain": [
       "<Figure size 432x288 with 1 Axes>"
      ]
     },
     "metadata": {
      "needs_background": "light"
     },
     "output_type": "display_data"
    }
   ],
   "source": [
    "sns.distplot(preprocessing.scale(df[\"SalePrice\"]))\n",
    "\n",
    "fig = plt.figure()\n",
    "res = stats.probplot(preprocessing.scale(df[\"SalePrice\"]), plot=plt)\n",
    "plt.show()"
   ]
  },
  {
   "cell_type": "markdown",
   "metadata": {
    "heading_collapsed": true
   },
   "source": [
    "## 2. Learning Simple Classifiers"
   ]
  },
  {
   "cell_type": "markdown",
   "metadata": {
    "hidden": true
   },
   "source": [
    "* Choose **`X` classifiers** (https://scikit-learn.org/stable/supervised_learning.html#supervised-learning).\n",
    "* Use **grid-search and stratified 10 fold cross-validation** to estimate the best parameters (https://scikit-learn.org/stable/model_selection.html#model-selection). \n",
    "* Present mean and standard deviation of accuracy, precision and recall.\n",
    "* Show confusion matrices."
   ]
  },
  {
   "cell_type": "markdown",
   "metadata": {
    "heading_collapsed": true,
    "hidden": true
   },
   "source": [
    "### 2.1 SVC - Support Vector Classifier\n",
    "\n",
    "- params = {'C': 10, 'gamma': 0.1, 'kernel': 'rbf'}\n",
    "\n",
    "- mean = 0.9368\n",
    "\n",
    "- Std  = 0.0241\n",
    "\n",
    "- Accuracy - 0,93"
   ]
  },
  {
   "cell_type": "code",
   "execution_count": 57,
   "metadata": {
    "hidden": true,
    "scrolled": true
   },
   "outputs": [
    {
     "name": "stdout",
     "output_type": "stream",
     "text": [
      "0.9367715458276334\n",
      "{'C': 10, 'gamma': 0.1, 'kernel': 'rbf'}\n",
      "Std =  0.024140398641024102\n"
     ]
    }
   ],
   "source": [
    "param_grid = {'C': [0.1,1, 10,100], 'gamma': [1,0.1,0.01],'kernel': ['rbf', 'poly', 'sigmoid']}\n",
    "grid = GridSearchCV(SVC(),param_grid,refit=True, cv = 10, return_train_score=True)\n",
    "grid_results = grid.fit(X_train,y_train)\n",
    "print(grid_results.best_score_)\n",
    "print(grid_results.best_params_)\n",
    "i = list(grid_results.cv_results_['rank_test_score']).index(1)\n",
    "print(\"Std = \",grid_results.cv_results_['std_test_score'][i])"
   ]
  },
  {
   "cell_type": "code",
   "execution_count": 58,
   "metadata": {
    "hidden": true
   },
   "outputs": [
    {
     "data": {
      "image/png": "[encoded data removed]",
      "text/plain": [
       "<Figure size 432x288 with 2 Axes>"
      ]
     },
     "metadata": {},
     "output_type": "display_data"
    },
    {
     "name": "stdout",
     "output_type": "stream",
     "text": [
      "              precision    recall  f1-score   support\n",
      "\n",
      "           0       0.91      0.91      0.91       126\n",
      "           1       0.99      0.99      0.99       116\n",
      "           2       0.90      0.90      0.90       125\n",
      "\n",
      "    accuracy                           0.93       367\n",
      "   macro avg       0.94      0.94      0.94       367\n",
      "weighted avg       0.93      0.93      0.93       367\n",
      "\n"
     ]
    }
   ],
   "source": [
    "grid_predictions = grid.predict(X_test)\n",
    "\n",
    "corr =confusion_matrix(y_test,grid_predictions)\n",
    "ax = sns.heatmap(data= corr, annot=True, fmt=\"d\")\n",
    "#0  -  \"<200000\"   \n",
    "#1  -  \">400000\"\n",
    "#2  -  \"[200000,400000]\"\n",
    "labels = [\"<200k\",\">400k\",\"[200k,400k]\"]\n",
    "ax.set_xticklabels(labels)\n",
    "ax.set_yticklabels(labels)\n",
    "plt.show() \n",
    "\n",
    "print(classification_report(y_test,grid_predictions))"
   ]
  },
  {
   "cell_type": "markdown",
   "metadata": {
    "heading_collapsed": true,
    "hidden": true
   },
   "source": [
    "### 2.2 Nearest Neighbors\n",
    "- params = {'metric': 'manhattan', 'n_neighbors': 9, 'weights': 'distance'}\n",
    "\n",
    "- mean = 0.9344\n",
    "\n",
    "- Std  = 0.0329\n",
    "\n",
    "- Accuracy - 0,94"
   ]
  },
  {
   "cell_type": "code",
   "execution_count": 32,
   "metadata": {
    "hidden": true
   },
   "outputs": [
    {
     "name": "stdout",
     "output_type": "stream",
     "text": [
      "Fitting 10 folds for each of 52 candidates, totalling 520 fits\n"
     ]
    },
    {
     "name": "stderr",
     "output_type": "stream",
     "text": [
      "[Parallel(n_jobs=-1)]: Using backend LokyBackend with 12 concurrent workers.\n",
      "[Parallel(n_jobs=-1)]: Done  26 tasks      | elapsed:    1.7s\n",
      "[Parallel(n_jobs=-1)]: Done 440 tasks      | elapsed:    2.6s\n",
      "[Parallel(n_jobs=-1)]: Done 520 out of 520 | elapsed:    2.8s finished\n"
     ]
    },
    {
     "name": "stdout",
     "output_type": "stream",
     "text": [
      "0.9344049247606019\n",
      "{'metric': 'manhattan', 'n_neighbors': 9, 'weights': 'distance'}\n",
      "Std =  0.032946178226919975\n"
     ]
    }
   ],
   "source": [
    "grid_params = { 'n_neighbors' : list(range(2,15)), 'weights' : ['uniform', 'distance'], 'metric' : ['euclidean', 'manhattan'] }\n",
    "grid = GridSearchCV( neighbors.KNeighborsClassifier(), grid_params, verbose = 1, cv = 10, n_jobs = -1)\n",
    "grid_results = grid.fit(X_train, y_train)\n",
    "print(grid_results.best_score_)\n",
    "print(grid_results.best_params_)\n",
    "i = list(grid_results.cv_results_['rank_test_score']).index(1)\n",
    "print(\"Std = \",grid_results.cv_results_['std_test_score'][i])"
   ]
  },
  {
   "cell_type": "code",
   "execution_count": 34,
   "metadata": {
    "hidden": true
   },
   "outputs": [
    {
     "data": {
      "image/png": "[encoded data removed]",
      "text/plain": [
       "<Figure size 432x288 with 2 Axes>"
      ]
     },
     "metadata": {
      "needs_background": "light"
     },
     "output_type": "display_data"
    },
    {
     "name": "stdout",
     "output_type": "stream",
     "text": [
      "              precision    recall  f1-score   support\n",
      "\n",
      "           0       0.94      0.94      0.94       126\n",
      "           1       0.94      1.00      0.97       116\n",
      "           2       0.94      0.89      0.91       125\n",
      "\n",
      "    accuracy                           0.94       367\n",
      "   macro avg       0.94      0.94      0.94       367\n",
      "weighted avg       0.94      0.94      0.94       367\n",
      "\n"
     ]
    }
   ],
   "source": [
    "grid_predictions = grid.predict(X_test)\n",
    "\n",
    "corr =confusion_matrix(y_test,grid_predictions)\n",
    "ax = sns.heatmap(data= corr, annot=True, fmt=\"d\")\n",
    "#0  -  \"<200000\"   \n",
    "#1  -  \">400000\"\n",
    "#2  -  \"[200000,400000]\"\n",
    "labels = [\"<200k\",\">400k\",\"[200k,400k]\"]\n",
    "ax.set_xticklabels(labels)\n",
    "ax.set_yticklabels(labels)\n",
    "plt.show() \n",
    "\n",
    "print(classification_report(y_test,grid_predictions))"
   ]
  },
  {
   "cell_type": "markdown",
   "metadata": {
    "heading_collapsed": true,
    "hidden": true
   },
   "source": [
    "### 2.3 Decision Trees\n",
    "- params = {'max_leaf_nodes': 45, 'min_samples_split': 3}\n",
    "\n",
    "- mean = 0.9075\n",
    "\n",
    "- Std  = 0.0366\n",
    "\n",
    "- Accuracy - 0,93"
   ]
  },
  {
   "cell_type": "code",
   "execution_count": 35,
   "metadata": {
    "hidden": true
   },
   "outputs": [
    {
     "name": "stderr",
     "output_type": "stream",
     "text": [
      "[Parallel(n_jobs=1)]: Using backend SequentialBackend with 1 concurrent workers.\n"
     ]
    },
    {
     "name": "stdout",
     "output_type": "stream",
     "text": [
      "Fitting 10 folds for each of 294 candidates, totalling 2940 fits\n",
      "{'max_leaf_nodes': 45, 'min_samples_split': 3}\n",
      "Mean =  0.9074555403556772\n",
      "Std =  0.036573757298899764\n"
     ]
    },
    {
     "name": "stderr",
     "output_type": "stream",
     "text": [
      "[Parallel(n_jobs=1)]: Done 2940 out of 2940 | elapsed:   15.8s finished\n"
     ]
    }
   ],
   "source": [
    "params = {'max_leaf_nodes': list(range(2, 100)), 'min_samples_split': [2, 3, 4]}\n",
    "grid = GridSearchCV(DecisionTreeClassifier(random_state=42), params, verbose=1, cv = 10)\n",
    "grid_results = grid.fit(X_train, y_train)\n",
    "\n",
    "\n",
    "print(grid_results.best_params_)\n",
    "i = list(grid_results.cv_results_['rank_test_score']).index(1)\n",
    "print(\"Mean = \", grid_results.best_score_)\n",
    "print(\"Std = \",grid_results.cv_results_['std_test_score'][i])"
   ]
  },
  {
   "cell_type": "code",
   "execution_count": 36,
   "metadata": {
    "hidden": true
   },
   "outputs": [
    {
     "data": {
      "image/png": "[encoded data removed]",
      "text/plain": [
       "<Figure size 432x288 with 2 Axes>"
      ]
     },
     "metadata": {
      "needs_background": "light"
     },
     "output_type": "display_data"
    },
    {
     "name": "stdout",
     "output_type": "stream",
     "text": [
      "              precision    recall  f1-score   support\n",
      "\n",
      "           0       0.94      0.89      0.91       126\n",
      "           1       0.98      0.96      0.97       116\n",
      "           2       0.87      0.94      0.90       125\n",
      "\n",
      "    accuracy                           0.93       367\n",
      "   macro avg       0.93      0.93      0.93       367\n",
      "weighted avg       0.93      0.93      0.93       367\n",
      "\n"
     ]
    }
   ],
   "source": [
    "grid_predictions = grid.predict(X_test)\n",
    "\n",
    "corr =confusion_matrix(y_test,grid_predictions)\n",
    "ax = sns.heatmap(data= corr, annot=True, fmt=\"d\")\n",
    "#0  -  \"<200000\"   \n",
    "#1  -  \">400000\"\n",
    "#2  -  \"[200000,400000]\"\n",
    "labels = [\"<200k\",\">400k\",\"[200k,400k]\"]\n",
    "ax.set_xticklabels(labels)\n",
    "ax.set_yticklabels(labels)\n",
    "plt.show() \n",
    "\n",
    "print(classification_report(y_test,grid_predictions))"
   ]
  },
  {
   "cell_type": "markdown",
   "metadata": {
    "heading_collapsed": true
   },
   "source": [
    "## 2.4 Conclusions"
   ]
  },
  {
   "cell_type": "markdown",
   "metadata": {
    "hidden": true
   },
   "source": [
    "Accuracy:\n",
    "1. SVM - 0,93\n",
    "    - precision e recall superior a 90% em todas as classes;\n",
    "        - a classe \">400k\" tem precisão e recall de 99%. Isto deverá ser por causa de existirem poucas entradas no dataset original e com o over-sampling são geradas entradas muito semelhantes o que irá fazer com que haja um overfitting desta classe.\n",
    "2. **Nearest Neighbors** - 0.94\n",
    "    - precision de 94% para todas as classes e recall de 100% para a classe \">400k\"\n",
    "        - Como o over sampling é feito através de SMOTE irão ser criadas entradas próximas das existentes na classe, isto poderá explicar o recall de 100%.\n",
    "        - Existencia de uma previsão de \">400k\" na classe \"<200k\" - Poderá ser um outlier\n",
    "3. Decision Tree - 0.93\n",
    "    - precision e recall médio de 93%\n",
    "        - Existencia de uma previsão de \">400k\" na classe \"<200k\" - Poderá ser um outlier\n",
    "    "
   ]
  },
  {
   "cell_type": "markdown",
   "metadata": {
    "heading_collapsed": true
   },
   "source": [
    "## 3. Learning Simple Regressors"
   ]
  },
  {
   "cell_type": "markdown",
   "metadata": {
    "hidden": true
   },
   "source": [
    "* Choose **`X` regressors** (https://scikit-learn.org/stable/supervised_learning.html#supervised-learning).\n",
    "* Use **grid-search and 10 fold cross-validation** to estimate the best parameters (https://scikit-learn.org/stable/model_selection.html#model-selection). \n",
    "* Use the mean absolute error regression loss, or other relevant metrics."
   ]
  },
  {
   "cell_type": "markdown",
   "metadata": {
    "heading_collapsed": true,
    "hidden": true
   },
   "source": [
    "### 3.1. SVR"
   ]
  },
  {
   "cell_type": "code",
   "execution_count": 37,
   "metadata": {
    "hidden": true
   },
   "outputs": [
    {
     "name": "stdout",
     "output_type": "stream",
     "text": [
      "0.019408031784515035\n",
      "{'C': 100, 'gamma': 0.01, 'kernel': 'rbf'}\n"
     ]
    }
   ],
   "source": [
    "param_grid = {'C': [0.1,1, 10,100], 'gamma': [1,0.1,0.01,0.001],'kernel': ['rbf']}#, 'poly'] 'sigmoid']}\n",
    "\n",
    "grid = GridSearchCV(SVR(), param_grid, cv=10)\n",
    "grid.fit(X_train,y_train_r)\n",
    "\n",
    "grid_results = grid.fit(X_train, y_train_r)\n",
    "print(grid_results.best_score_)\n",
    "print(grid_results.best_params_)"
   ]
  },
  {
   "cell_type": "code",
   "execution_count": 38,
   "metadata": {
    "hidden": true
   },
   "outputs": [
    {
     "name": "stdout",
     "output_type": "stream",
     "text": [
      "MAE: 117064.85110946235\n",
      "MSE: 22797095511.752598\n",
      "RMSE: 150987.0706774345\n"
     ]
    }
   ],
   "source": [
    "grid_predictions = grid.predict(X_test)\n",
    "\n",
    "print('MAE:', metrics.mean_absolute_error(y_test_r, grid_predictions))\n",
    "print('MSE:', metrics.mean_squared_error(y_test_r, grid_predictions))\n",
    "print('RMSE:', np.sqrt(metrics.mean_squared_error(y_test_r, grid_predictions)))"
   ]
  },
  {
   "cell_type": "markdown",
   "metadata": {
    "heading_collapsed": true,
    "hidden": true
   },
   "source": [
    "### 3.2. Nearest Neighbors"
   ]
  },
  {
   "cell_type": "code",
   "execution_count": 39,
   "metadata": {
    "hidden": true
   },
   "outputs": [
    {
     "name": "stdout",
     "output_type": "stream",
     "text": [
      "0.9488368788754438\n",
      "{'metric': 'manhattan', 'n_neighbors': 11, 'weights': 'distance'}\n"
     ]
    }
   ],
   "source": [
    "param_grid = { 'n_neighbors' : [3,5,11,15,18,19,20], 'weights' : ['uniform', 'distance'], 'metric' : ['euclidean', 'manhattan','minkowski','chebyshev']}\n",
    "\n",
    "grid = GridSearchCV(neighbors.KNeighborsRegressor(), param_grid, cv=10)\n",
    "grid.fit(X_train,y_train_r)\n",
    "\n",
    "grid_results = grid.fit(X_train, y_train_r)\n",
    "print(grid_results.best_score_)\n",
    "print(grid_results.best_params_)"
   ]
  },
  {
   "cell_type": "code",
   "execution_count": 40,
   "metadata": {
    "hidden": true
   },
   "outputs": [
    {
     "name": "stdout",
     "output_type": "stream",
     "text": [
      "MAE: 20602.342425502546\n",
      "MSE: 1503795014.194038\n",
      "RMSE: 38778.79593533092\n"
     ]
    }
   ],
   "source": [
    "from sklearn import metrics\n",
    "\n",
    "grid_predictions = grid.predict(X_test)\n",
    "#grid_results = grid_results.reshape(-1,1)\n",
    "\n",
    "print('MAE:', metrics.mean_absolute_error(y_test_r, grid_predictions))\n",
    "print('MSE:', metrics.mean_squared_error(y_test_r, grid_predictions))\n",
    "print('RMSE:', np.sqrt(metrics.mean_squared_error(y_test_r, grid_predictions)))"
   ]
  },
  {
   "cell_type": "code",
   "execution_count": 41,
   "metadata": {
    "hidden": true
   },
   "outputs": [
    {
     "name": "stdout",
     "output_type": "stream",
     "text": [
      "0  :  218115.69242095377 \t:  275000 \t:  56884.30757904623\n",
      "1  :  106678.97822025501 \t:  102776 \t:  -3902.9782202550123\n",
      "2  :  191351.41748757148 \t:  187500 \t:  -3851.4174875714816\n",
      "3  :  440938.8800461955 \t:  440749 \t:  -189.8800461955252\n",
      "4  :  257781.51016584606 \t:  294000 \t:  36218.48983415394\n",
      "5  :  147227.74351297572 \t:  133900 \t:  -13327.743512975721\n",
      "6  :  327743.7773923031 \t:  301500 \t:  -26243.777392303105\n",
      "7  :  316002.38945539936 \t:  274900 \t:  -41102.38945539936\n",
      "8  :  92900.0 \t:  87500 \t:  -5400.0\n",
      "9  :  132507.40263531022 \t:  177000 \t:  44492.59736468978\n",
      "10  :  440493.1405306791 \t:  436343 \t:  -4150.140530679084\n",
      "11  :  433920.444007461 \t:  335000 \t:  -98920.44400746102\n",
      "12  :  311816.4812296679 \t:  250000 \t:  -61816.4812296679\n",
      "13  :  230000.0 \t:  207500 \t:  -22500.0\n",
      "14  :  334145.31528552383 \t:  287000 \t:  -47145.31528552383\n",
      "15  :  354836.4079980664 \t:  318061 \t:  -36775.407998066396\n",
      "16  :  406290.5988497621 \t:  310000 \t:  -96290.59884976211\n",
      "17  :  275445.2227632323 \t:  251000 \t:  -24445.222763232305\n",
      "18  :  260564.95691528163 \t:  244000 \t:  -16564.956915281626\n",
      "19  :  251074.597382152 \t:  249700 \t:  -1374.5973821519874\n",
      "20  :  670538.2572604823 \t:  160000 \t:  -510538.2572604823\n",
      "21  :  622161.3691754105 \t:  621157 \t:  -1004.3691754104802\n",
      "22  :  415433.20936100127 \t:  411850 \t:  -3583.209361001267\n",
      "23  :  207423.3085303974 \t:  185750 \t:  -21673.308530397393\n",
      "24  :  127051.30311882551 \t:  123000 \t:  -4051.303118825512\n",
      "25  :  604875.8041808311 \t:  618929 \t:  14053.195819168934\n",
      "26  :  337342.23237109557 \t:  385000 \t:  47657.76762890443\n",
      "27  :  439795.57891911874 \t:  439967 \t:  171.42108088126406\n",
      "28  :  178429.66400611063 \t:  165600 \t:  -12829.66400611063\n",
      "29  :  405837.64974559715 \t:  402550 \t:  -3287.649745597155\n",
      "30  :  295843.8963558134 \t:  280000 \t:  -15843.896355813427\n",
      "31  :  74537.79357002782 \t:  37900 \t:  -36637.79357002782\n",
      "32  :  110093.04691879777 \t:  116050 \t:  5956.953081202228\n",
      "33  :  340820.65557178756 \t:  370878 \t:  30057.34442821244\n",
      "34  :  623395.3279740564 \t:  633579 \t:  10183.67202594364\n",
      "35  :  152607.04617913207 \t:  153900 \t:  1292.9538208679296\n",
      "36  :  403427.5002173672 \t:  402583 \t:  -844.5002173671965\n",
      "37  :  312503.8448288134 \t:  312500 \t:  -3.8448288133949973\n",
      "38  :  75189.54623787747 \t:  80500 \t:  5310.453762122532\n",
      "39  :  214339.35586772554 \t:  206900 \t:  -7439.355867725535\n",
      "40  :  130141.82316632791 \t:  132500 \t:  2358.176833672085\n",
      "41  :  232388.89445288628 \t:  221500 \t:  -10888.894452886278\n",
      "42  :  437111.7570481731 \t:  447577 \t:  10465.242951826891\n",
      "43  :  109465.72731195191 \t:  119500 \t:  10034.272688048091\n",
      "44  :  201918.14890804203 \t:  205000 \t:  3081.851091957971\n",
      "45  :  145708.98673504835 \t:  138887 \t:  -6821.986735048355\n",
      "46  :  154971.23686264548 \t:  210000 \t:  55028.763137354515\n",
      "47  :  418656.34811386105 \t:  413665 \t:  -4991.348113861051\n",
      "48  :  444091.6043745429 \t:  443517 \t:  -574.6043745428906\n",
      "49  :  623286.7181316941 \t:  634550 \t:  11263.281868305872\n",
      "50  :  238842.95685251104 \t:  262500 \t:  23657.043147488963\n",
      "51  :  190788.29274780198 \t:  179200 \t:  -11588.292747801985\n",
      "52  :  124838.42118716921 \t:  110500 \t:  -14338.42118716921\n",
      "53  :  324835.9709729369 \t:  309000 \t:  -15835.970972936891\n",
      "54  :  228404.782139631 \t:  274300 \t:  45895.21786036901\n",
      "55  :  421231.90759908047 \t:  424521 \t:  3289.0924009195296\n",
      "56  :  133011.16556531694 \t:  118858 \t:  -14153.165565316944\n",
      "57  :  434564.853809795 \t:  427422 \t:  -7142.853809794993\n",
      "58  :  184862.184999751 \t:  205000 \t:  20137.815000248986\n",
      "59  :  203548.76445764434 \t:  194500 \t:  -9048.764457644342\n",
      "60  :  545847.4616631239 \t:  572488 \t:  26640.53833687608\n",
      "61  :  253911.07146418063 \t:  290000 \t:  36088.928535819374\n",
      "62  :  185346.42728401476 \t:  174000 \t:  -11346.42728401476\n",
      "63  :  107059.89517773737 \t:  107900 \t:  840.1048222626268\n",
      "64  :  250889.49983437906 \t:  201000 \t:  -49889.499834379065\n",
      "65  :  262320.2404214221 \t:  307000 \t:  44679.75957857788\n",
      "66  :  439259.75176593167 \t:  438215 \t:  -1044.7517659316654\n",
      "67  :  624615.1846684108 \t:  645169 \t:  20553.815331589198\n",
      "68  :  570313.2747941588 \t:  615441 \t:  45127.72520584124\n",
      "69  :  520385.6468516859 \t:  499652 \t:  -20733.646851685888\n",
      "70  :  178688.89044280542 \t:  156932 \t:  -21756.890442805423\n",
      "71  :  142227.74056746997 \t:  174900 \t:  32672.25943253003\n",
      "72  :  181322.71473527938 \t:  107500 \t:  -73822.71473527938\n",
      "73  :  743593.6324607382 \t:  746876 \t:  3282.367539261817\n",
      "74  :  149463.945553734 \t:  155000 \t:  5536.054446266004\n",
      "75  :  194349.89043523523 \t:  169000 \t:  -25349.890435235226\n",
      "76  :  242490.47594427367 \t:  262280 \t:  19789.52405572633\n",
      "77  :  124694.1315192729 \t:  116000 \t:  -8694.131519272894\n",
      "78  :  233700.5051935825 \t:  233000 \t:  -700.5051935825031\n",
      "79  :  473470.64074791904 \t:  471025 \t:  -2445.6407479190384\n",
      "80  :  430438.85575509345 \t:  428578 \t:  -1860.8557550934493\n",
      "81  :  125215.25364148342 \t:  128900 \t:  3684.7463585165824\n",
      "82  :  426552.00883582595 \t:  419156 \t:  -7396.008835825953\n",
      "83  :  139263.91025312318 \t:  99500 \t:  -39763.91025312318\n",
      "84  :  126979.86227277167 \t:  118500 \t:  -8479.862272771672\n",
      "85  :  553461.1473807251 \t:  555258 \t:  1796.8526192748686\n",
      "86  :  218749.24724567495 \t:  277000 \t:  58250.75275432505\n",
      "87  :  101456.38212757456 \t:  79500 \t:  -21956.382127574558\n",
      "88  :  316586.041981561 \t:  290000 \t:  -26586.041981560993\n",
      "89  :  457935.2521500966 \t:  437778 \t:  -20157.25215009658\n",
      "90  :  530266.9469450602 \t:  635139 \t:  104872.05305493984\n",
      "91  :  117150.51507221491 \t:  55993 \t:  -61157.51507221491\n",
      "92  :  254488.5092694309 \t:  316600 \t:  62111.49073056909\n",
      "93  :  442164.06944707735 \t:  444835 \t:  2670.930552922655\n",
      "94  :  218407.08369650473 \t:  208900 \t:  -9507.083696504735\n",
      "95  :  228735.44330075695 \t:  220000 \t:  -8735.443300756946\n",
      "96  :  439401.0019874628 \t:  453622 \t:  14220.998012537195\n",
      "97  :  98119.75243449317 \t:  64500 \t:  -33619.75243449317\n",
      "98  :  437226.3757593826 \t:  361919 \t:  -75307.37575938262\n",
      "99  :  173572.96685504023 \t:  178000 \t:  4427.0331449597725\n",
      "100  :  192125.39933452572 \t:  196000 \t:  3874.6006654742814\n",
      "101  :  392490.12467026146 \t:  439697 \t:  47206.87532973854\n",
      "102  :  235761.85439930952 \t:  248000 \t:  12238.145600690477\n",
      "103  :  116801.25724825314 \t:  111250 \t:  -5551.25724825314\n",
      "104  :  109601.16812864994 \t:  100000 \t:  -9601.168128649937\n",
      "105  :  117558.56838373105 \t:  62383 \t:  -55175.56838373105\n",
      "106  :  159182.35287774532 \t:  219500 \t:  60317.64712225468\n",
      "107  :  744792.4842346291 \t:  748828 \t:  4035.5157653709175\n",
      "108  :  158697.0562478951 \t:  171500 \t:  12802.943752104911\n",
      "109  :  474465.97672352864 \t:  471542 \t:  -2923.9767235286417\n",
      "110  :  211212.02630306908 \t:  204000 \t:  -7212.026303069084\n",
      "111  :  91687.87477943927 \t:  91000 \t:  -687.8747794392693\n",
      "112  :  483944.71791718854 \t:  469343 \t:  -14601.717917188536\n",
      "113  :  739505.1303098345 \t:  742437 \t:  2931.8696901655057\n",
      "114  :  751088.9671260781 \t:  754287 \t:  3198.0328739219112\n",
      "115  :  103224.22256569653 \t:  79900 \t:  -23324.22256569653\n",
      "116  :  215753.51430208606 \t:  215000 \t:  -753.514302086056\n",
      "117  :  287736.5339130208 \t:  260000 \t:  -27736.5339130208\n",
      "118  :  209575.63700615385 \t:  226000 \t:  16424.362993846153\n",
      "119  :  315432.5398590344 \t:  290000 \t:  -25432.539859034412\n",
      "120  :  543943.1914532103 \t:  557897 \t:  13953.808546789689\n",
      "121  :  441175.68872062885 \t:  440226 \t:  -949.688720628852\n",
      "122  :  157986.05793245425 \t:  223500 \t:  65513.94206754575\n",
      "123  :  622007.4720900416 \t:  604226 \t:  -17781.472090041614\n",
      "124  :  149521.72505961996 \t:  150750 \t:  1228.2749403800408\n",
      "125  :  226113.86584080246 \t:  279500 \t:  53386.134159197536\n",
      "126  :  264975.9931237995 \t:  250000 \t:  -14975.993123799504\n",
      "127  :  154245.77039603773 \t:  200100 \t:  45854.229603962274\n",
      "128  :  220050.87089276887 \t:  204750 \t:  -15300.870892768871\n",
      "129  :  506853.17411584203 \t:  475994 \t:  -30859.174115842034\n",
      "130  :  201494.12237275674 \t:  262500 \t:  61005.87762724326\n",
      "131  :  133006.58901461694 \t:  118964 \t:  -14042.58901461694\n",
      "132  :  143622.5022585006 \t:  149700 \t:  6077.497741499392\n",
      "133  :  548407.3813359718 \t:  555079 \t:  6671.618664028239\n",
      "134  :  476307.2022072486 \t:  487534 \t:  11226.7977927514\n",
      "135  :  136570.49644147453 \t:  156000 \t:  19429.503558525466\n",
      "136  :  286101.5464186471 \t:  281000 \t:  -5101.546418647107\n",
      "137  :  239909.62345641284 \t:  210000 \t:  -29909.62345641284\n",
      "138  :  436088.1164789256 \t:  433235 \t:  -2853.116478925629\n",
      "139  :  214287.3388906135 \t:  215000 \t:  712.6611093865067\n",
      "140  :  430070.36564571055 \t:  417429 \t:  -12641.365645710554\n",
      "141  :  548460.6069066139 \t:  555692 \t:  7231.393093386083\n",
      "142  :  508130.55246513337 \t:  480726 \t:  -27404.55246513337\n",
      "143  :  438848.11012170324 \t:  438645 \t:  -203.11012170324102\n",
      "144  :  264476.88326098176 \t:  252000 \t:  -12476.883260981762\n",
      "145  :  90122.08254231607 \t:  103200 \t:  13077.917457683929\n",
      "146  :  134919.3324167031 \t:  147500 \t:  12580.66758329689\n",
      "147  :  153147.4172800727 \t:  164500 \t:  11352.582719927304\n",
      "148  :  177546.47895190923 \t:  178900 \t:  1353.52104809077\n",
      "149  :  162286.3324565441 \t:  159000 \t:  -3286.3324565441\n",
      "150  :  472556.00597826357 \t:  499018 \t:  26461.994021736435\n"
     ]
    },
    {
     "name": "stdout",
     "output_type": "stream",
     "text": [
      "151  :  430748.1018483023 \t:  420171 \t:  -10577.101848302293\n",
      "152  :  213791.30128387027 \t:  244000 \t:  30208.69871612973\n",
      "153  :  329754.4099907294 \t:  278000 \t:  -51754.409990729415\n",
      "154  :  191481.0635653688 \t:  178000 \t:  -13481.063565368793\n",
      "155  :  211275.3177364121 \t:  274725 \t:  63449.68226358789\n",
      "156  :  205239.84692774783 \t:  214500 \t:  9260.153072252171\n",
      "157  :  474423.17207277415 \t:  474042 \t:  -381.17207277414855\n",
      "158  :  134735.38575220166 \t:  159950 \t:  25214.614247798338\n",
      "159  :  424565.18662760255 \t:  424136 \t:  -429.1866276025539\n",
      "160  :  356279.15898581175 \t:  302000 \t:  -54279.15898581175\n",
      "161  :  170269.51430388374 \t:  168500 \t:  -1769.5143038837414\n",
      "162  :  78329.7919716373 \t:  92000 \t:  13670.2080283627\n",
      "163  :  431427.2483812076 \t:  432299 \t:  871.7516187924193\n",
      "164  :  122990.20958804213 \t:  128000 \t:  5009.790411957874\n",
      "165  :  119549.11167157127 \t:  135500 \t:  15950.88832842873\n",
      "166  :  201897.9881029461 \t:  205000 \t:  3102.0118970538897\n",
      "167  :  256567.1447485521 \t:  315000 \t:  58432.85525144791\n",
      "168  :  322551.9278451999 \t:  348000 \t:  25448.072154800117\n",
      "169  :  95278.61627153671 \t:  84900 \t:  -10378.61627153671\n",
      "170  :  78653.26646139788 \t:  86000 \t:  7346.733538602115\n",
      "171  :  342891.4756320494 \t:  317000 \t:  -25891.475632049376\n",
      "172  :  543860.9330041079 \t:  557677 \t:  13816.066995892092\n",
      "173  :  224136.9727570181 \t:  213500 \t:  -10636.972757018113\n",
      "174  :  506245.42976159306 \t:  487967 \t:  -18278.429761593055\n",
      "175  :  127416.59996590615 \t:  145500 \t:  18083.40003409385\n",
      "176  :  175364.4939800575 \t:  176500 \t:  1135.5060199424915\n",
      "177  :  474766.07099978614 \t:  476663 \t:  1896.9290002138587\n",
      "178  :  745334.1383988145 \t:  745347 \t:  12.861601185519248\n",
      "179  :  455906.2700385578 \t:  480308 \t:  24401.72996144218\n",
      "180  :  504236.2911333308 \t:  464552 \t:  -39684.291133330786\n",
      "181  :  140624.25522464458 \t:  134432 \t:  -6192.255224644585\n",
      "182  :  125247.03009255038 \t:  154500 \t:  29252.969907449617\n",
      "183  :  424807.95384652895 \t:  417931 \t:  -6876.9538465289515\n",
      "184  :  210515.18606323295 \t:  274970 \t:  64454.81393676705\n",
      "185  :  113007.15374922432 \t:  98000 \t:  -15007.153749224322\n",
      "186  :  251582.02878079732 \t:  239686 \t:  -11896.028780797322\n",
      "187  :  447940.6797686466 \t:  438729 \t:  -9211.679768646602\n",
      "188  :  116718.30351902606 \t:  118000 \t:  1281.6964809739438\n",
      "189  :  85952.46933108791 \t:  99900 \t:  13947.530668912092\n",
      "190  :  445128.96899169224 \t:  444528 \t:  -600.9689916922362\n",
      "191  :  132546.52440652097 \t:  105500 \t:  -27046.52440652097\n",
      "192  :  194880.68570486523 \t:  192500 \t:  -2380.685704865231\n",
      "193  :  412063.8481161431 \t:  412139 \t:  75.15188385691727\n",
      "194  :  236685.88560415714 \t:  245500 \t:  8814.114395842858\n",
      "195  :  140641.9051227887 \t:  146800 \t:  6158.09487721129\n",
      "196  :  93175.81341449438 \t:  123600 \t:  30424.186585505624\n",
      "197  :  149300.0 \t:  155900 \t:  6600.0\n",
      "198  :  481325.9909639819 \t:  426970 \t:  -54355.990963981894\n",
      "199  :  351281.57281922124 \t:  374000 \t:  22718.42718077876\n",
      "200  :  207000.0 \t:  224000 \t:  17000.0\n",
      "201  :  255693.46562888785 \t:  328900 \t:  73206.53437111215\n",
      "202  :  126644.66462418251 \t:  133700 \t:  7055.335375817493\n",
      "203  :  226307.6597008785 \t:  236000 \t:  9692.340299121512\n",
      "204  :  424628.0322672518 \t:  424676 \t:  47.96773274819134\n",
      "205  :  431363.60804287874 \t:  431695 \t:  331.39195712126093\n",
      "206  :  270944.74148860876 \t:  239000 \t:  -31944.741488608764\n",
      "207  :  360642.45656512835 \t:  394432 \t:  33789.54343487165\n",
      "208  :  172252.98822460006 \t:  171000 \t:  -1252.9882246000634\n",
      "209  :  344378.68681496853 \t:  311872 \t:  -32506.686814968532\n",
      "210  :  531048.1345739743 \t:  537139 \t:  6090.865426025703\n",
      "211  :  122129.59728139706 \t:  138500 \t:  16370.402718602942\n",
      "212  :  109148.23597155353 \t:  90350 \t:  -18798.235971553528\n",
      "213  :  424794.7462616372 \t:  424870 \t:  75.25373836280778\n",
      "214  :  409833.7081300443 \t:  406611 \t:  -3222.7081300442806\n",
      "215  :  497933.8254760108 \t:  504338 \t:  6404.174523989204\n",
      "216  :  291634.1712885438 \t:  248000 \t:  -43634.17128854379\n",
      "217  :  126494.54666412769 \t:  130250 \t:  3755.453335872313\n",
      "218  :  162950.3008990589 \t:  143900 \t:  -19050.3008990589\n",
      "219  :  443852.27123411925 \t:  442834 \t:  -1018.2712341192528\n",
      "220  :  188100.76369761946 \t:  230000 \t:  41899.23630238054\n",
      "221  :  132481.82650265138 \t:  131000 \t:  -1481.8265026513836\n",
      "222  :  486729.05480772106 \t:  485149 \t:  -1580.054807721055\n",
      "223  :  124929.89577608967 \t:  89471 \t:  -35458.895776089674\n",
      "224  :  168756.47447354824 \t:  189950 \t:  21193.525526451762\n",
      "225  :  411597.99803048605 \t:  413019 \t:  1421.001969513949\n",
      "226  :  446636.2524981185 \t:  447708 \t:  1071.747501881502\n",
      "227  :  219279.5576190232 \t:  240000 \t:  20720.442380976805\n",
      "228  :  266172.9582967629 \t:  268000 \t:  1827.0417032371042\n",
      "229  :  383159.6016079231 \t:  440000 \t:  56840.398392076895\n",
      "230  :  212580.17181022468 \t:  221000 \t:  8419.828189775319\n",
      "231  :  215439.71222600978 \t:  240000 \t:  24560.287773990218\n",
      "232  :  427571.8580795445 \t:  420420 \t:  -7151.858079544501\n",
      "233  :  217368.74282341677 \t:  263435 \t:  46066.257176583225\n",
      "234  :  203293.22449629157 \t:  201000 \t:  -2293.224496291572\n",
      "235  :  403772.77607423905 \t:  402836 \t:  -936.7760742390528\n",
      "236  :  290479.5864803293 \t:  339750 \t:  49270.41351967072\n",
      "237  :  180833.81443096764 \t:  181000 \t:  166.1855690323573\n",
      "238  :  411903.6166214285 \t:  412666 \t:  762.3833785714814\n",
      "239  :  424571.4205239896 \t:  426088 \t:  1516.5794760104036\n",
      "240  :  207504.7611869377 \t:  186500 \t:  -21004.761186937714\n",
      "241  :  148121.40498967012 \t:  143000 \t:  -5121.404989670118\n",
      "242  :  549462.6161166416 \t:  552954 \t:  3491.383883358445\n",
      "243  :  190134.29062545332 \t:  145000 \t:  -45134.290625453315\n",
      "244  :  401571.07814548607 \t:  402220 \t:  648.9218545139302\n",
      "245  :  136054.16692650938 \t:  140200 \t:  4145.833073490619\n",
      "246  :  223616.77085482952 \t:  259000 \t:  35383.22914517048\n",
      "247  :  298525.4064286504 \t:  274000 \t:  -24525.40642865043\n",
      "248  :  382510.31921091676 \t:  320000 \t:  -62510.31921091676\n",
      "249  :  444802.96321260073 \t:  448376 \t:  3573.0367873992654\n",
      "250  :  127145.10748479032 \t:  124900 \t:  -2245.107484790322\n",
      "251  :  110567.39142720446 \t:  101800 \t:  -8767.391427204464\n",
      "252  :  448068.3267761114 \t:  438780 \t:  -9288.326776111382\n",
      "253  :  267013.3481547282 \t:  305000 \t:  37986.651845271816\n",
      "254  :  246152.894036322 \t:  209500 \t:  -36652.89403632199\n",
      "255  :  217996.39677699844 \t:  194201 \t:  -23795.396776998445\n",
      "256  :  436634.9568201158 \t:  409743 \t:  -26891.956820115796\n",
      "257  :  251848.36812199696 \t:  212000 \t:  -39848.36812199696\n",
      "258  :  197420.0046130125 \t:  175900 \t:  -21520.004613012512\n",
      "259  :  96603.83991666739 \t:  91300 \t:  -5303.839916667392\n",
      "260  :  261936.86511223819 \t:  340000 \t:  78063.13488776181\n",
      "261  :  174786.06485026094 \t:  162900 \t:  -11886.06485026094\n",
      "262  :  131169.09260647977 \t:  135000 \t:  3830.9073935202323\n",
      "263  :  180146.67557859264 \t:  186700 \t:  6553.324421407364\n",
      "264  :  538950.0791824013 \t:  540759 \t:  1808.9208175987005\n",
      "265  :  219456.13624892413 \t:  231500 \t:  12043.86375107587\n",
      "266  :  409879.39253089315 \t:  411004 \t:  1124.6074691068497\n",
      "267  :  438608.0232224476 \t:  439968 \t:  1359.9767775523942\n",
      "268  :  131419.62866978187 \t:  142000 \t:  10580.371330218128\n",
      "269  :  202665.0 \t:  202500 \t:  -165.0\n",
      "270  :  421962.2688505287 \t:  424883 \t:  2920.7311494713067\n",
      "271  :  474442.39488176024 \t:  473357 \t:  -1085.3948817602359\n",
      "272  :  401012.8923880225 \t:  402190 \t:  1177.1076119774953\n",
      "273  :  89404.5727531713 \t:  78000 \t:  -11404.572753171306\n",
      "274  :  607054.3065197221 \t:  678042 \t:  70987.6934802779\n",
      "275  :  119090.81305735714 \t:  124500 \t:  5409.18694264286\n",
      "276  :  276261.22645067255 \t:  303477 \t:  27215.773549327452\n",
      "277  :  424885.9228796153 \t:  425011 \t:  125.07712038472528\n",
      "278  :  110026.3652437219 \t:  109008 \t:  -1018.3652437218989\n",
      "279  :  155414.25612071462 \t:  137500 \t:  -17914.25612071462\n",
      "280  :  226839.7928431454 \t:  219210 \t:  -7629.792843145406\n",
      "281  :  548047.2922854673 \t:  567243 \t:  19195.707714532735\n",
      "282  :  90680.52338050044 \t:  89000 \t:  -1680.523380500439\n",
      "283  :  256284.34185815576 \t:  207500 \t:  -48784.34185815576\n",
      "284  :  113886.43384760268 \t:  135750 \t:  21863.566152397325\n",
      "285  :  111713.74975400823 \t:  105900 \t:  -5813.749754008226\n",
      "286  :  404762.39756791404 \t:  404829 \t:  66.60243208595784\n",
      "287  :  263059.11224215425 \t:  359100 \t:  96040.88775784575\n",
      "288  :  261930.84146066694 \t:  236500 \t:  -25430.84146066694\n",
      "289  :  211682.1518898303 \t:  220000 \t:  8317.848110169696\n",
      "290  :  433920.6826580952 \t:  433477 \t:  -443.6826580952038\n",
      "291  :  276716.6614073351 \t:  271900 \t:  -4816.661407335079\n",
      "292  :  437608.75333487836 \t:  436887 \t:  -721.7533348783618\n",
      "293  :  226951.1200482903 \t:  260000 \t:  33048.87995170971\n",
      "294  :  379310.69023114553 \t:  314813 \t:  -64497.690231145534\n",
      "295  :  140681.67210694883 \t:  157900 \t:  17218.327893051173\n",
      "296  :  391210.1372396066 \t:  350000 \t:  -41210.137239606585\n",
      "297  :  538182.4133610671 \t:  544247 \t:  6064.586638932931\n",
      "298  :  404858.54943259974 \t:  402952 \t:  -1906.5494325997424\n",
      "299  :  429493.1615868786 \t:  428048 \t:  -1445.1615868785884\n",
      "300  :  413720.1093465628 \t:  408929 \t:  -4791.109346562822\n",
      "301  :  228221.78405817057 \t:  200000 \t:  -28221.784058170568\n",
      "302  :  121967.43274907363 \t:  112000 \t:  -9967.432749073632\n",
      "303  :  130051.59295539264 \t:  134500 \t:  4448.40704460736\n",
      "304  :  73571.48173105578 \t:  106250 \t:  32678.518268944215\n",
      "305  :  235619.20208969878 \t:  200000 \t:  -35619.20208969878\n",
      "306  :  127143.7989565709 \t:  133000 \t:  5856.2010434291005\n",
      "307  :  384238.88028230914 \t:  403736 \t:  19497.11971769086\n",
      "308  :  546879.0113820756 \t:  472758 \t:  -74121.01138207561\n",
      "309  :  148013.81043954627 \t:  144000 \t:  -4013.8104395462724\n",
      "310  :  244625.12314442566 \t:  213500 \t:  -31125.123144425655\n",
      "311  :  457619.3216534521 \t:  468605 \t:  10985.67834654788\n",
      "312  :  475732.73931389704 \t:  425597 \t:  -50135.73931389704\n",
      "313  :  242078.11031234072 \t:  230000 \t:  -12078.110312340723\n",
      "314  :  745910.1542660709 \t:  746674 \t:  763.8457339290762\n",
      "315  :  240764.45235406666 \t:  232000 \t:  -8764.452354066656\n",
      "316  :  403835.64813749143 \t:  402746 \t:  -1089.6481374914292\n",
      "317  :  160995.6505933341 \t:  167900 \t:  6904.34940666589\n",
      "318  :  214110.2292168447 \t:  235000 \t:  20889.770783155313\n",
      "319  :  186778.40839996692 \t:  193879 \t:  7100.591600033076\n",
      "320  :  433996.06823730277 \t:  436159 \t:  2162.9317626972334\n",
      "321  :  141606.736021265 \t:  108959 \t:  -32647.73602126501\n",
      "322  :  99772.37301545774 \t:  40000 \t:  -59772.373015457735\n",
      "323  :  207692.35434256122 \t:  185850 \t:  -21842.354342561215\n",
      "324  :  535323.0589557206 \t:  513890 \t:  -21433.058955720626\n"
     ]
    },
    {
     "name": "stdout",
     "output_type": "stream",
     "text": [
      "325  :  209080.94691841298 \t:  216000 \t:  6919.053081587015\n",
      "326  :  270180.873939622 \t:  299800 \t:  29619.12606037798\n",
      "327  :  576240.1221608117 \t:  611657 \t:  35416.877839188324\n",
      "328  :  399135.3988403032 \t:  402094 \t:  2958.6011596968165\n",
      "329  :  386073.8617454144 \t:  325000 \t:  -61073.86174541438\n",
      "330  :  218100.85686024203 \t:  151400 \t:  -66700.85686024203\n",
      "331  :  179113.74442287607 \t:  150500 \t:  -28613.744422876072\n",
      "332  :  271868.54684776766 \t:  225000 \t:  -46868.54684776766\n",
      "333  :  208640.91261042317 \t:  212000 \t:  3359.087389576831\n",
      "334  :  241396.34394326402 \t:  250000 \t:  8603.656056735985\n",
      "335  :  184502.94603653916 \t:  177000 \t:  -7502.946036539157\n",
      "336  :  160369.71144126894 \t:  161500 \t:  1130.2885587310593\n",
      "337  :  210563.75585214572 \t:  183000 \t:  -27563.755852145725\n",
      "338  :  191739.85568203547 \t:  173900 \t:  -17839.85568203547\n",
      "339  :  93305.31023153503 \t:  76500 \t:  -16805.310231535026\n",
      "340  :  183570.53644925804 \t:  165400 \t:  -18170.53644925804\n",
      "341  :  438233.53941130574 \t:  337500 \t:  -100733.53941130574\n",
      "342  :  247359.09549478194 \t:  268000 \t:  20640.90450521806\n",
      "343  :  167545.47122970864 \t:  146000 \t:  -21545.471229708637\n",
      "344  :  238973.77874389157 \t:  302000 \t:  63026.22125610843\n",
      "345  :  300840.4418456206 \t:  283463 \t:  -17377.441845620575\n",
      "346  :  425831.2628547538 \t:  423653 \t:  -2178.262854753819\n",
      "347  :  250895.1136667221 \t:  269500 \t:  18604.886333277886\n",
      "348  :  418463.5018808928 \t:  413378 \t:  -5085.501880892785\n",
      "349  :  413049.3334354533 \t:  412296 \t:  -753.3334354532999\n",
      "350  :  433572.7005920857 \t:  437154 \t:  3581.299407914281\n",
      "351  :  334991.9571877718 \t:  313000 \t:  -21991.957187771797\n",
      "352  :  227167.57797415293 \t:  205000 \t:  -22167.577974152926\n",
      "353  :  475617.6677762548 \t:  480301 \t:  4683.332223745179\n",
      "354  :  229760.84309900735 \t:  224900 \t:  -4860.843099007354\n",
      "355  :  501879.9719244096 \t:  484719 \t:  -17160.97192440962\n",
      "356  :  128081.33150614784 \t:  134800 \t:  6718.668493852165\n",
      "357  :  439364.1771372579 \t:  452604 \t:  13239.82286274212\n",
      "358  :  197439.90374788255 \t:  185500 \t:  -11939.903747882548\n",
      "359  :  209239.82396315873 \t:  259500 \t:  50260.176036841265\n",
      "360  :  94631.89498509107 \t:  85400 \t:  -9231.894985091072\n",
      "361  :  112176.82030063168 \t:  130500 \t:  18323.179699368324\n",
      "362  :  129925.67132892447 \t:  134900 \t:  4974.328671075535\n",
      "363  :  622766.2364956428 \t:  594687 \t:  -28079.236495642806\n",
      "364  :  352265.1723807731 \t:  369900 \t:  17634.827619226882\n",
      "365  :  254398.3434490238 \t:  258000 \t:  3601.656550976186\n",
      "366  :  245220.45543136814 \t:  265979 \t:  20758.544568631856\n"
     ]
    }
   ],
   "source": [
    "for i in range(len(grid_predictions)):\n",
    "    print(i,\" : \",grid_predictions[i],\"\\t: \",y_test_r.to_list()[i],\"\\t: \",y_test_r.to_list()[i]-grid_predictions[i])"
   ]
  },
  {
   "cell_type": "markdown",
   "metadata": {
    "heading_collapsed": true,
    "hidden": true
   },
   "source": [
    "### 3.3. Decision Tree Regressor"
   ]
  },
  {
   "cell_type": "code",
   "execution_count": 42,
   "metadata": {
    "hidden": true
   },
   "outputs": [
    {
     "name": "stdout",
     "output_type": "stream",
     "text": [
      "0.9025855348046384\n",
      "{'criterion': 'mse', 'max_depth': 8, 'max_leaf_nodes': 100, 'min_samples_leaf': 20, 'min_samples_split': 10}\n"
     ]
    }
   ],
   "source": [
    "param_grid = {\"criterion\": [\"mse\", \"mae\"],\n",
    "              \"min_samples_split\": [10, 20, 40],\n",
    "              \"max_depth\": [2, 6, 8],\n",
    "              \"min_samples_leaf\": [20, 40, 100],\n",
    "              \"max_leaf_nodes\": [5, 20, 100],\n",
    "              }\n",
    "\n",
    "grid = GridSearchCV(DecisionTreeRegressor(), param_grid, cv=10)\n",
    "grid.fit(X_train,y_train_r)\n",
    "\n",
    "grid_results = grid.fit(X_train, y_train_r)\n",
    "print(grid_results.best_score_)\n",
    "print(grid_results.best_params_)"
   ]
  },
  {
   "cell_type": "code",
   "execution_count": 43,
   "metadata": {
    "hidden": true
   },
   "outputs": [
    {
     "name": "stdout",
     "output_type": "stream",
     "text": [
      "MAE: 31446.83305753279\n",
      "MSE: 2458671928.321952\n",
      "RMSE: 49584.99700838906\n"
     ]
    }
   ],
   "source": [
    "grid_predictions = grid.predict(X_test)\n",
    "#grid_results = grid_results.reshape(-1,1)\n",
    "\n",
    "print('MAE:', metrics.mean_absolute_error(y_test_r, grid_predictions))\n",
    "print('MSE:', metrics.mean_squared_error(y_test_r, grid_predictions))\n",
    "print('RMSE:', np.sqrt(metrics.mean_squared_error(y_test_r, grid_predictions)))"
   ]
  },
  {
   "cell_type": "code",
   "execution_count": 44,
   "metadata": {
    "hidden": true
   },
   "outputs": [
    {
     "name": "stdout",
     "output_type": "stream",
     "text": [
      "0  :  226988.8108108108 \t:  275000 \t:  48011.1891891892\n",
      "1  :  118059.70588235294 \t:  102776 \t:  -15283.705882352937\n",
      "2  :  183040.0 \t:  187500 \t:  4460.0\n",
      "3  :  422140.25 \t:  440749 \t:  18608.75\n",
      "4  :  260841.33333333334 \t:  294000 \t:  33158.66666666666\n",
      "5  :  149854.32432432432 \t:  133900 \t:  -15954.32432432432\n",
      "6  :  284287.5238095238 \t:  301500 \t:  17212.476190476213\n",
      "7  :  312264.96153846156 \t:  274900 \t:  -37364.96153846156\n",
      "8  :  73515.80769230769 \t:  87500 \t:  13984.192307692312\n",
      "9  :  118059.70588235294 \t:  177000 \t:  58940.29411764706\n",
      "10  :  435189.95 \t:  436343 \t:  1153.0499999999884\n",
      "11  :  312264.96153846156 \t:  335000 \t:  22735.03846153844\n",
      "12  :  274658.8888888889 \t:  250000 \t:  -24658.888888888876\n",
      "13  :  229752.18181818182 \t:  207500 \t:  -22252.181818181823\n",
      "14  :  284287.5238095238 \t:  287000 \t:  2712.4761904762127\n",
      "15  :  396743.63636363635 \t:  318061 \t:  -78682.63636363635\n",
      "16  :  312264.96153846156 \t:  310000 \t:  -2264.961538461561\n",
      "17  :  274658.8888888889 \t:  251000 \t:  -23658.888888888876\n",
      "18  :  284287.5238095238 \t:  244000 \t:  -40287.52380952379\n",
      "19  :  249605.75675675675 \t:  249700 \t:  94.24324324325426\n",
      "20  :  663329.1304347826 \t:  160000 \t:  -503329.1304347826\n",
      "21  :  663329.1304347826 \t:  621157 \t:  -42172.13043478259\n",
      "22  :  435189.95 \t:  411850 \t:  -23339.95000000001\n",
      "23  :  192467.72727272726 \t:  185750 \t:  -6717.727272727265\n",
      "24  :  100148.51515151515 \t:  123000 \t:  22851.484848484848\n",
      "25  :  422924.2413793103 \t:  618929 \t:  196004.75862068968\n",
      "26  :  312264.96153846156 \t:  385000 \t:  72735.03846153844\n",
      "27  :  422140.25 \t:  439967 \t:  17826.75\n",
      "28  :  152930.9705882353 \t:  165600 \t:  12669.029411764699\n",
      "29  :  396743.63636363635 \t:  402550 \t:  5806.363636363647\n",
      "30  :  260841.33333333334 \t:  280000 \t:  19158.666666666657\n",
      "31  :  73515.80769230769 \t:  37900 \t:  -35615.80769230769\n",
      "32  :  73515.80769230769 \t:  116050 \t:  42534.19230769231\n",
      "33  :  312264.96153846156 \t:  370878 \t:  58613.03846153844\n",
      "34  :  663329.1304347826 \t:  633579 \t:  -29750.130434782594\n",
      "35  :  149854.32432432432 \t:  153900 \t:  4045.6756756756804\n",
      "36  :  372867.54545454547 \t:  402583 \t:  29715.45454545453\n",
      "37  :  312264.96153846156 \t:  312500 \t:  235.03846153843915\n",
      "38  :  73515.80769230769 \t:  80500 \t:  6984.192307692312\n",
      "39  :  159693.4090909091 \t:  206900 \t:  47206.59090909091\n",
      "40  :  149854.32432432432 \t:  132500 \t:  -17354.32432432432\n",
      "41  :  207571.32 \t:  221500 \t:  13928.679999999993\n",
      "42  :  443779.5 \t:  447577 \t:  3797.5\n",
      "43  :  118059.70588235294 \t:  119500 \t:  1440.294117647063\n",
      "44  :  192467.72727272726 \t:  205000 \t:  12532.272727272735\n",
      "45  :  183040.0 \t:  138887 \t:  -44153.0\n",
      "46  :  159693.4090909091 \t:  210000 \t:  50306.59090909091\n",
      "47  :  416740.94444444444 \t:  413665 \t:  -3075.944444444438\n",
      "48  :  416740.94444444444 \t:  443517 \t:  26776.055555555562\n",
      "49  :  663329.1304347826 \t:  634550 \t:  -28779.130434782594\n",
      "50  :  249605.75675675675 \t:  262500 \t:  12894.243243243254\n",
      "51  :  192467.72727272726 \t:  179200 \t:  -13267.727272727265\n",
      "52  :  100148.51515151515 \t:  110500 \t:  10351.484848484848\n",
      "53  :  312264.96153846156 \t:  309000 \t:  -3264.961538461561\n",
      "54  :  226988.8108108108 \t:  274300 \t:  47311.1891891892\n",
      "55  :  443779.5 \t:  424521 \t:  -19258.5\n",
      "56  :  152930.9705882353 \t:  118858 \t:  -34072.9705882353\n",
      "57  :  396743.63636363635 \t:  427422 \t:  30678.363636363647\n",
      "58  :  226988.8108108108 \t:  205000 \t:  -21988.8108108108\n",
      "59  :  183040.0 \t:  194500 \t:  11460.0\n",
      "60  :  563618.9230769231 \t:  572488 \t:  8869.076923076878\n",
      "61  :  312264.96153846156 \t:  290000 \t:  -22264.96153846156\n",
      "62  :  183040.0 \t:  174000 \t:  -9040.0\n",
      "63  :  73515.80769230769 \t:  107900 \t:  34384.19230769231\n",
      "64  :  274658.8888888889 \t:  201000 \t:  -73658.88888888888\n",
      "65  :  312264.96153846156 \t:  307000 \t:  -5264.961538461561\n",
      "66  :  435189.95 \t:  438215 \t:  3025.0499999999884\n",
      "67  :  663329.1304347826 \t:  645169 \t:  -18160.130434782594\n",
      "68  :  563618.9230769231 \t:  615441 \t:  51822.07692307688\n",
      "69  :  443779.5 \t:  499652 \t:  55872.5\n",
      "70  :  152930.9705882353 \t:  156932 \t:  4001.029411764699\n",
      "71  :  149854.32432432432 \t:  174900 \t:  25045.67567567568\n",
      "72  :  159693.4090909091 \t:  107500 \t:  -52193.40909090909\n",
      "73  :  663329.1304347826 \t:  746876 \t:  83546.8695652174\n",
      "74  :  137640.73076923078 \t:  155000 \t:  17359.26923076922\n",
      "75  :  192467.72727272726 \t:  169000 \t:  -23467.727272727265\n",
      "76  :  284287.5238095238 \t:  262280 \t:  -22007.523809523787\n",
      "77  :  100148.51515151515 \t:  116000 \t:  15851.484848484848\n",
      "78  :  226988.8108108108 \t:  233000 \t:  6011.189189189201\n",
      "79  :  454592.39285714284 \t:  471025 \t:  16432.60714285716\n",
      "80  :  422924.2413793103 \t:  428578 \t:  5653.758620689681\n",
      "81  :  137640.73076923078 \t:  128900 \t:  -8740.73076923078\n",
      "82  :  443779.5 \t:  419156 \t:  -24623.5\n",
      "83  :  152930.9705882353 \t:  99500 \t:  -53430.9705882353\n",
      "84  :  137640.73076923078 \t:  118500 \t:  -19140.73076923078\n",
      "85  :  497822.3461538461 \t:  555258 \t:  57435.65384615387\n",
      "86  :  217112.26086956522 \t:  277000 \t:  59887.739130434784\n",
      "87  :  100148.51515151515 \t:  79500 \t:  -20648.515151515152\n",
      "88  :  274658.8888888889 \t:  290000 \t:  15341.111111111124\n",
      "89  :  422924.2413793103 \t:  437778 \t:  14853.758620689681\n",
      "90  :  563618.9230769231 \t:  635139 \t:  71520.07692307688\n",
      "91  :  100148.51515151515 \t:  55993 \t:  -44155.51515151515\n",
      "92  :  249605.75675675675 \t:  316600 \t:  66994.24324324325\n",
      "93  :  416740.94444444444 \t:  444835 \t:  28094.055555555562\n",
      "94  :  217112.26086956522 \t:  208900 \t:  -8212.260869565216\n",
      "95  :  207571.32 \t:  220000 \t:  12428.679999999993\n",
      "96  :  443779.5 \t:  453622 \t:  9842.5\n",
      "97  :  73515.80769230769 \t:  64500 \t:  -9015.807692307688\n",
      "98  :  284287.5238095238 \t:  361919 \t:  77631.47619047621\n",
      "99  :  149854.32432432432 \t:  178000 \t:  28145.67567567568\n",
      "100  :  217112.26086956522 \t:  196000 \t:  -21112.260869565216\n",
      "101  :  372867.54545454547 \t:  439697 \t:  66829.45454545453\n",
      "102  :  260841.33333333334 \t:  248000 \t:  -12841.333333333343\n",
      "103  :  73515.80769230769 \t:  111250 \t:  37734.19230769231\n",
      "104  :  100148.51515151515 \t:  100000 \t:  -148.51515151515196\n",
      "105  :  100148.51515151515 \t:  62383 \t:  -37765.51515151515\n",
      "106  :  183040.0 \t:  219500 \t:  36460.0\n",
      "107  :  663329.1304347826 \t:  748828 \t:  85498.8695652174\n",
      "108  :  149854.32432432432 \t:  171500 \t:  21645.67567567568\n",
      "109  :  454592.39285714284 \t:  471542 \t:  16949.60714285716\n",
      "110  :  207571.32 \t:  204000 \t:  -3571.320000000007\n",
      "111  :  100148.51515151515 \t:  91000 \t:  -9148.515151515152\n",
      "112  :  497822.3461538461 \t:  469343 \t:  -28479.346153846127\n",
      "113  :  663329.1304347826 \t:  742437 \t:  79107.8695652174\n",
      "114  :  663329.1304347826 \t:  754287 \t:  90957.8695652174\n",
      "115  :  100148.51515151515 \t:  79900 \t:  -20248.515151515152\n",
      "116  :  249605.75675675675 \t:  215000 \t:  -34605.756756756746\n",
      "117  :  274658.8888888889 \t:  260000 \t:  -14658.888888888876\n",
      "118  :  207571.32 \t:  226000 \t:  18428.679999999993\n",
      "119  :  372867.54545454547 \t:  290000 \t:  -82867.54545454547\n",
      "120  :  497822.3461538461 \t:  557897 \t:  60074.65384615387\n",
      "121  :  435189.95 \t:  440226 \t:  5036.049999999988\n",
      "122  :  192467.72727272726 \t:  223500 \t:  31032.272727272735\n",
      "123  :  422924.2413793103 \t:  604226 \t:  181301.75862068968\n",
      "124  :  149854.32432432432 \t:  150750 \t:  895.6756756756804\n",
      "125  :  207571.32 \t:  279500 \t:  71928.68\n",
      "126  :  284287.5238095238 \t:  250000 \t:  -34287.52380952379\n",
      "127  :  183040.0 \t:  200100 \t:  17060.0\n",
      "128  :  203194.90476190476 \t:  204750 \t:  1555.0952380952367\n",
      "129  :  497822.3461538461 \t:  475994 \t:  -21828.346153846127\n",
      "130  :  226988.8108108108 \t:  262500 \t:  35511.1891891892\n",
      "131  :  152930.9705882353 \t:  118964 \t:  -33966.9705882353\n",
      "132  :  149854.32432432432 \t:  149700 \t:  -154.3243243243196\n",
      "133  :  524473.92 \t:  555079 \t:  30605.079999999958\n",
      "134  :  443779.5 \t:  487534 \t:  43754.5\n",
      "135  :  149854.32432432432 \t:  156000 \t:  6145.67567567568\n",
      "136  :  274658.8888888889 \t:  281000 \t:  6341.111111111124\n",
      "137  :  159693.4090909091 \t:  210000 \t:  50306.59090909091\n",
      "138  :  435189.95 \t:  433235 \t:  -1954.9500000000116\n",
      "139  :  226988.8108108108 \t:  215000 \t:  -11988.810810810799\n",
      "140  :  454592.39285714284 \t:  417429 \t:  -37163.39285714284\n",
      "141  :  497822.3461538461 \t:  555692 \t:  57869.65384615387\n",
      "142  :  563618.9230769231 \t:  480726 \t:  -82892.92307692312\n",
      "143  :  416740.94444444444 \t:  438645 \t:  21904.055555555562\n",
      "144  :  249605.75675675675 \t:  252000 \t:  2394.2432432432543\n",
      "145  :  73515.80769230769 \t:  103200 \t:  29684.192307692312\n",
      "146  :  118059.70588235294 \t:  147500 \t:  29440.294117647063\n",
      "147  :  152930.9705882353 \t:  164500 \t:  11569.029411764699\n",
      "148  :  171795.0 \t:  178900 \t:  7105.0\n",
      "149  :  149854.32432432432 \t:  159000 \t:  9145.67567567568\n",
      "150  :  443779.5 \t:  499018 \t:  55238.5\n",
      "151  :  443779.5 \t:  420171 \t:  -23608.5\n",
      "152  :  192467.72727272726 \t:  244000 \t:  51532.272727272735\n",
      "153  :  422924.2413793103 \t:  278000 \t:  -144924.24137931032\n",
      "154  :  171795.0 \t:  178000 \t:  6205.0\n",
      "155  :  226988.8108108108 \t:  274725 \t:  47736.1891891892\n",
      "156  :  192467.72727272726 \t:  214500 \t:  22032.272727272735\n",
      "157  :  454592.39285714284 \t:  474042 \t:  19449.60714285716\n",
      "158  :  149854.32432432432 \t:  159950 \t:  10095.67567567568\n",
      "159  :  443779.5 \t:  424136 \t:  -19643.5\n",
      "160  :  372867.54545454547 \t:  302000 \t:  -70867.54545454547\n",
      "161  :  152930.9705882353 \t:  168500 \t:  15569.029411764699\n",
      "162  :  100148.51515151515 \t:  92000 \t:  -8148.515151515152\n",
      "163  :  422924.2413793103 \t:  432299 \t:  9374.758620689681\n",
      "164  :  118059.70588235294 \t:  128000 \t:  9940.294117647063\n",
      "165  :  118059.70588235294 \t:  135500 \t:  17440.294117647063\n",
      "166  :  226988.8108108108 \t:  205000 \t:  -21988.8108108108\n",
      "167  :  249605.75675675675 \t:  315000 \t:  65394.243243243254\n",
      "168  :  372867.54545454547 \t:  348000 \t:  -24867.54545454547\n",
      "169  :  73515.80769230769 \t:  84900 \t:  11384.192307692312\n",
      "170  :  100148.51515151515 \t:  86000 \t:  -14148.515151515152\n",
      "171  :  312264.96153846156 \t:  317000 \t:  4735.038461538439\n",
      "172  :  497822.3461538461 \t:  557677 \t:  59854.65384615387\n",
      "173  :  226988.8108108108 \t:  213500 \t:  -13488.810810810799\n",
      "174  :  524473.92 \t:  487967 \t:  -36506.92000000004\n",
      "175  :  137640.73076923078 \t:  145500 \t:  7859.26923076922\n",
      "176  :  203194.90476190476 \t:  176500 \t:  -26694.904761904763\n",
      "177  :  435189.95 \t:  476663 \t:  41473.04999999999\n",
      "178  :  663329.1304347826 \t:  745347 \t:  82017.8695652174\n",
      "179  :  422140.25 \t:  480308 \t:  58167.75\n",
      "180  :  497822.3461538461 \t:  464552 \t:  -33270.34615384613\n",
      "181  :  152930.9705882353 \t:  134432 \t:  -18498.9705882353\n",
      "182  :  118059.70588235294 \t:  154500 \t:  36440.29411764706\n",
      "183  :  435189.95 \t:  417931 \t:  -17258.95000000001\n",
      "184  :  192467.72727272726 \t:  274970 \t:  82502.27272727274\n",
      "185  :  100148.51515151515 \t:  98000 \t:  -2148.515151515152\n",
      "186  :  226988.8108108108 \t:  239686 \t:  12697.189189189201\n",
      "187  :  435189.95 \t:  438729 \t:  3539.0499999999884\n",
      "188  :  118059.70588235294 \t:  118000 \t:  -59.7058823529369\n",
      "189  :  100148.51515151515 \t:  99900 \t:  -248.51515151515196\n",
      "190  :  416740.94444444444 \t:  444528 \t:  27787.055555555562\n",
      "191  :  100148.51515151515 \t:  105500 \t:  5351.484848484848\n",
      "192  :  226988.8108108108 \t:  192500 \t:  -34488.8108108108\n",
      "193  :  416740.94444444444 \t:  412139 \t:  -4601.944444444438\n",
      "194  :  183040.0 \t:  245500 \t:  62460.0\n",
      "195  :  149854.32432432432 \t:  146800 \t:  -3054.3243243243196\n",
      "196  :  152930.9705882353 \t:  123600 \t:  -29330.9705882353\n",
      "197  :  152930.9705882353 \t:  155900 \t:  2969.029411764699\n",
      "198  :  422924.2413793103 \t:  426970 \t:  4045.7586206896813\n",
      "199  :  312264.96153846156 \t:  374000 \t:  61735.03846153844\n",
      "200  :  229752.18181818182 \t:  224000 \t:  -5752.1818181818235\n",
      "201  :  312264.96153846156 \t:  328900 \t:  16635.03846153844\n",
      "202  :  137640.73076923078 \t:  133700 \t:  -3940.7307692307804\n",
      "203  :  226988.8108108108 \t:  236000 \t:  9011.189189189201\n",
      "204  :  372867.54545454547 \t:  424676 \t:  51808.45454545453\n",
      "205  :  422924.2413793103 \t:  431695 \t:  8770.758620689681\n",
      "206  :  372867.54545454547 \t:  239000 \t:  -133867.54545454547\n",
      "207  :  312264.96153846156 \t:  394432 \t:  82167.03846153844\n",
      "208  :  159693.4090909091 \t:  171000 \t:  11306.590909090912\n",
      "209  :  229752.18181818182 \t:  311872 \t:  82119.81818181818\n",
      "210  :  524473.92 \t:  537139 \t:  12665.079999999958\n",
      "211  :  137640.73076923078 \t:  138500 \t:  859.2692307692196\n",
      "212  :  152930.9705882353 \t:  90350 \t:  -62580.9705882353\n",
      "213  :  372867.54545454547 \t:  424870 \t:  52002.45454545453\n",
      "214  :  422924.2413793103 \t:  406611 \t:  -16313.241379310319\n",
      "215  :  443779.5 \t:  504338 \t:  60558.5\n",
      "216  :  274658.8888888889 \t:  248000 \t:  -26658.888888888876\n",
      "217  :  152930.9705882353 \t:  130250 \t:  -22680.9705882353\n",
      "218  :  159693.4090909091 \t:  143900 \t:  -15793.409090909088\n",
      "219  :  435189.95 \t:  442834 \t:  7644.049999999988\n",
      "220  :  171795.0 \t:  230000 \t:  58205.0\n",
      "221  :  118059.70588235294 \t:  131000 \t:  12940.294117647063\n",
      "222  :  563618.9230769231 \t:  485149 \t:  -78469.92307692312\n",
      "223  :  149854.32432432432 \t:  89471 \t:  -60383.32432432432\n",
      "224  :  171795.0 \t:  189950 \t:  18155.0\n",
      "225  :  416740.94444444444 \t:  413019 \t:  -3721.944444444438\n",
      "226  :  443779.5 \t:  447708 \t:  3928.5\n",
      "227  :  284287.5238095238 \t:  240000 \t:  -44287.52380952379\n",
      "228  :  260841.33333333334 \t:  268000 \t:  7158.666666666657\n",
      "229  :  372867.54545454547 \t:  440000 \t:  67132.45454545453\n",
      "230  :  207571.32 \t:  221000 \t:  13428.679999999993\n",
      "231  :  217112.26086956522 \t:  240000 \t:  22887.739130434784\n",
      "232  :  443779.5 \t:  420420 \t:  -23359.5\n",
      "233  :  249605.75675675675 \t:  263435 \t:  13829.243243243254\n",
      "234  :  192467.72727272726 \t:  201000 \t:  8532.272727272735\n",
      "235  :  372867.54545454547 \t:  402836 \t:  29968.45454545453\n",
      "236  :  312264.96153846156 \t:  339750 \t:  27485.03846153844\n",
      "237  :  192467.72727272726 \t:  181000 \t:  -11467.727272727265\n",
      "238  :  416740.94444444444 \t:  412666 \t:  -4074.944444444438\n",
      "239  :  443779.5 \t:  426088 \t:  -17691.5\n",
      "240  :  203194.90476190476 \t:  186500 \t:  -16694.904761904763\n",
      "241  :  171795.0 \t:  143000 \t:  -28795.0\n",
      "242  :  497822.3461538461 \t:  552954 \t:  55131.65384615387\n",
      "243  :  192467.72727272726 \t:  145000 \t:  -47467.727272727265\n",
      "244  :  372867.54545454547 \t:  402220 \t:  29352.45454545453\n",
      "245  :  118059.70588235294 \t:  140200 \t:  22140.294117647063\n",
      "246  :  207571.32 \t:  259000 \t:  51428.67999999999\n",
      "247  :  312264.96153846156 \t:  274000 \t:  -38264.96153846156\n",
      "248  :  396743.63636363635 \t:  320000 \t:  -76743.63636363635\n",
      "249  :  443779.5 \t:  448376 \t:  4596.5\n",
      "250  :  137640.73076923078 \t:  124900 \t:  -12740.73076923078\n",
      "251  :  73515.80769230769 \t:  101800 \t:  28284.192307692312\n",
      "252  :  435189.95 \t:  438780 \t:  3590.0499999999884\n",
      "253  :  372867.54545454547 \t:  305000 \t:  -67867.54545454547\n",
      "254  :  274658.8888888889 \t:  209500 \t:  -65158.888888888876\n",
      "255  :  207571.32 \t:  194201 \t:  -13370.320000000007\n",
      "256  :  396743.63636363635 \t:  409743 \t:  12999.363636363647\n",
      "257  :  274658.8888888889 \t:  212000 \t:  -62658.888888888876\n",
      "258  :  192467.72727272726 \t:  175900 \t:  -16567.727272727265\n",
      "259  :  100148.51515151515 \t:  91300 \t:  -8848.515151515152\n",
      "260  :  284287.5238095238 \t:  340000 \t:  55712.47619047621\n",
      "261  :  149854.32432432432 \t:  162900 \t:  13045.67567567568\n",
      "262  :  137640.73076923078 \t:  135000 \t:  -2640.7307692307804\n",
      "263  :  217112.26086956522 \t:  186700 \t:  -30412.260869565216\n",
      "264  :  524473.92 \t:  540759 \t:  16285.079999999958\n",
      "265  :  226988.8108108108 \t:  231500 \t:  4511.189189189201\n",
      "266  :  422924.2413793103 \t:  411004 \t:  -11920.241379310319\n",
      "267  :  422140.25 \t:  439968 \t:  17827.75\n",
      "268  :  137640.73076923078 \t:  142000 \t:  4359.26923076922\n",
      "269  :  229752.18181818182 \t:  202500 \t:  -27252.181818181823\n",
      "270  :  443779.5 \t:  424883 \t:  -18896.5\n",
      "271  :  435189.95 \t:  473357 \t:  38167.04999999999\n",
      "272  :  372867.54545454547 \t:  402190 \t:  29322.45454545453\n",
      "273  :  100148.51515151515 \t:  78000 \t:  -22148.515151515152\n",
      "274  :  563618.9230769231 \t:  678042 \t:  114423.07692307688\n",
      "275  :  137640.73076923078 \t:  124500 \t:  -13140.73076923078\n",
      "276  :  284287.5238095238 \t:  303477 \t:  19189.476190476213\n",
      "277  :  372867.54545454547 \t:  425011 \t:  52143.45454545453\n",
      "278  :  73515.80769230769 \t:  109008 \t:  35492.19230769231\n",
      "279  :  137640.73076923078 \t:  137500 \t:  -140.73076923078042\n",
      "280  :  226988.8108108108 \t:  219210 \t:  -7778.810810810799\n",
      "281  :  524473.92 \t:  567243 \t:  42769.07999999996\n",
      "282  :  100148.51515151515 \t:  89000 \t:  -11148.515151515152\n",
      "283  :  260841.33333333334 \t:  207500 \t:  -53341.33333333334\n",
      "284  :  137640.73076923078 \t:  135750 \t:  -1890.7307692307804\n",
      "285  :  100148.51515151515 \t:  105900 \t:  5751.484848484848\n",
      "286  :  372867.54545454547 \t:  404829 \t:  31961.45454545453\n",
      "287  :  284287.5238095238 \t:  359100 \t:  74812.47619047621\n"
     ]
    },
    {
     "name": "stdout",
     "output_type": "stream",
     "text": [
      "288  :  249605.75675675675 \t:  236500 \t:  -13105.756756756746\n",
      "289  :  249605.75675675675 \t:  220000 \t:  -29605.756756756746\n",
      "290  :  435189.95 \t:  433477 \t:  -1712.9500000000116\n",
      "291  :  284287.5238095238 \t:  271900 \t:  -12387.523809523787\n",
      "292  :  422924.2413793103 \t:  436887 \t:  13962.758620689681\n",
      "293  :  226988.8108108108 \t:  260000 \t:  33011.1891891892\n",
      "294  :  312264.96153846156 \t:  314813 \t:  2548.038461538439\n",
      "295  :  159693.4090909091 \t:  157900 \t:  -1793.4090909090883\n",
      "296  :  312264.96153846156 \t:  350000 \t:  37735.03846153844\n",
      "297  :  524473.92 \t:  544247 \t:  19773.079999999958\n",
      "298  :  454592.39285714284 \t:  402952 \t:  -51640.39285714284\n",
      "299  :  422924.2413793103 \t:  428048 \t:  5123.758620689681\n",
      "300  :  422924.2413793103 \t:  408929 \t:  -13995.241379310319\n",
      "301  :  226988.8108108108 \t:  200000 \t:  -26988.8108108108\n",
      "302  :  118059.70588235294 \t:  112000 \t:  -6059.705882352937\n",
      "303  :  137640.73076923078 \t:  134500 \t:  -3140.7307692307804\n",
      "304  :  73515.80769230769 \t:  106250 \t:  32734.192307692312\n",
      "305  :  226988.8108108108 \t:  200000 \t:  -26988.8108108108\n",
      "306  :  137640.73076923078 \t:  133000 \t:  -4640.73076923078\n",
      "307  :  284287.5238095238 \t:  403736 \t:  119448.47619047621\n",
      "308  :  497822.3461538461 \t:  472758 \t:  -25064.346153846127\n",
      "309  :  152930.9705882353 \t:  144000 \t:  -8930.970588235301\n",
      "310  :  274658.8888888889 \t:  213500 \t:  -61158.888888888876\n",
      "311  :  454592.39285714284 \t:  468605 \t:  14012.60714285716\n",
      "312  :  524473.92 \t:  425597 \t:  -98876.92000000004\n",
      "313  :  249605.75675675675 \t:  230000 \t:  -19605.756756756746\n",
      "314  :  663329.1304347826 \t:  746674 \t:  83344.8695652174\n",
      "315  :  229752.18181818182 \t:  232000 \t:  2247.8181818181765\n",
      "316  :  372867.54545454547 \t:  402746 \t:  29878.45454545453\n",
      "317  :  203194.90476190476 \t:  167900 \t:  -35294.90476190476\n",
      "318  :  226988.8108108108 \t:  235000 \t:  8011.189189189201\n",
      "319  :  203194.90476190476 \t:  193879 \t:  -9315.904761904763\n",
      "320  :  435189.95 \t:  436159 \t:  969.0499999999884\n",
      "321  :  118059.70588235294 \t:  108959 \t:  -9100.705882352937\n",
      "322  :  118059.70588235294 \t:  40000 \t:  -78059.70588235294\n",
      "323  :  229752.18181818182 \t:  185850 \t:  -43902.18181818182\n",
      "324  :  524473.92 \t:  513890 \t:  -10583.920000000042\n",
      "325  :  203194.90476190476 \t:  216000 \t:  12805.095238095237\n",
      "326  :  372867.54545454547 \t:  299800 \t:  -73067.54545454547\n",
      "327  :  563618.9230769231 \t:  611657 \t:  48038.07692307688\n",
      "328  :  284287.5238095238 \t:  402094 \t:  117806.47619047621\n",
      "329  :  443779.5 \t:  325000 \t:  -118779.5\n",
      "330  :  159693.4090909091 \t:  151400 \t:  -8293.409090909088\n",
      "331  :  152930.9705882353 \t:  150500 \t:  -2430.970588235301\n",
      "332  :  260841.33333333334 \t:  225000 \t:  -35841.33333333334\n",
      "333  :  203194.90476190476 \t:  212000 \t:  8805.095238095237\n",
      "334  :  192467.72727272726 \t:  250000 \t:  57532.272727272735\n",
      "335  :  171795.0 \t:  177000 \t:  5205.0\n",
      "336  :  217112.26086956522 \t:  161500 \t:  -55612.260869565216\n",
      "337  :  203194.90476190476 \t:  183000 \t:  -20194.904761904763\n",
      "338  :  203194.90476190476 \t:  173900 \t:  -29294.904761904763\n",
      "339  :  118059.70588235294 \t:  76500 \t:  -41559.70588235294\n",
      "340  :  118059.70588235294 \t:  165400 \t:  47340.29411764706\n",
      "341  :  312264.96153846156 \t:  337500 \t:  25235.03846153844\n",
      "342  :  284287.5238095238 \t:  268000 \t:  -16287.523809523787\n",
      "343  :  152930.9705882353 \t:  146000 \t:  -6930.970588235301\n",
      "344  :  260841.33333333334 \t:  302000 \t:  41158.66666666666\n",
      "345  :  312264.96153846156 \t:  283463 \t:  -28801.96153846156\n",
      "346  :  422140.25 \t:  423653 \t:  1512.75\n",
      "347  :  312264.96153846156 \t:  269500 \t:  -42764.96153846156\n",
      "348  :  497822.3461538461 \t:  413378 \t:  -84444.34615384613\n",
      "349  :  435189.95 \t:  412296 \t:  -22893.95000000001\n",
      "350  :  497822.3461538461 \t:  437154 \t:  -60668.34615384613\n",
      "351  :  312264.96153846156 \t:  313000 \t:  735.0384615384392\n",
      "352  :  226988.8108108108 \t:  205000 \t:  -21988.8108108108\n",
      "353  :  443779.5 \t:  480301 \t:  36521.5\n",
      "354  :  226988.8108108108 \t:  224900 \t:  -2088.810810810799\n",
      "355  :  524473.92 \t:  484719 \t:  -39754.92000000004\n",
      "356  :  100148.51515151515 \t:  134800 \t:  34651.48484848485\n",
      "357  :  454592.39285714284 \t:  452604 \t:  -1988.3928571428405\n",
      "358  :  207571.32 \t:  185500 \t:  -22071.320000000007\n",
      "359  :  217112.26086956522 \t:  259500 \t:  42387.739130434784\n",
      "360  :  100148.51515151515 \t:  85400 \t:  -14748.515151515152\n",
      "361  :  137640.73076923078 \t:  130500 \t:  -7140.73076923078\n",
      "362  :  100148.51515151515 \t:  134900 \t:  34751.48484848485\n",
      "363  :  422924.2413793103 \t:  594687 \t:  171762.75862068968\n",
      "364  :  372867.54545454547 \t:  369900 \t:  -2967.5454545454704\n",
      "365  :  274658.8888888889 \t:  258000 \t:  -16658.888888888876\n",
      "366  :  372867.54545454547 \t:  265979 \t:  -106888.54545454547\n"
     ]
    }
   ],
   "source": [
    "for i in range(len(grid_predictions)):\n",
    "    print(i,\" : \",grid_predictions[i],\"\\t: \",y_test_r.to_list()[i],\"\\t: \",y_test_r.to_list()[i]-grid_predictions[i])"
   ]
  },
  {
   "cell_type": "markdown",
   "metadata": {
    "heading_collapsed": true
   },
   "source": [
    "## 3.4. Conclusions"
   ]
  },
  {
   "cell_type": "markdown",
   "metadata": {
    "hidden": true
   },
   "source": [
    "1. SVR - MAE = 118 582\n",
    "2. **Nearest Neighbors Regressor** - MAE = 20 707\n",
    "3. Decision Tree Regressor - MAE = 28 262\n",
    "\n",
    "- O Nearst Neighbors dá um erro menor, provávelmente por causa do oversampling através do SMOTE como já foi explicado anteriormente."
   ]
  },
  {
   "cell_type": "markdown",
   "metadata": {
    "heading_collapsed": true
   },
   "source": [
    "## 4. Ensemble Learning"
   ]
  },
  {
   "cell_type": "markdown",
   "metadata": {
    "heading_collapsed": true,
    "hidden": true
   },
   "source": [
    "### Voting Classifier/Regressor\n",
    "\n",
    "* Use a voting classifier (http://scikit-learn.org/stable/modules/ensemble.html#voting-classifier) /regressor (https://scikit-learn.org/stable/modules/generated/sklearn.ensemble.VotingRegressor.html) to combine the best results of the `X` classifiers/regressors from previous sections. \n",
    "\n",
    "Classifier - Accuracy = 0.96\n",
    "\n",
    "Regressor - MAE: 23179.088969577948"
   ]
  },
  {
   "cell_type": "markdown",
   "metadata": {
    "heading_collapsed": true,
    "hidden": true
   },
   "source": [
    "#### Classifier\n",
    "Accuracy = 0.96 "
   ]
  },
  {
   "cell_type": "code",
   "execution_count": 45,
   "metadata": {
    "hidden": true
   },
   "outputs": [
    {
     "data": {
      "image/png": "[encoded data removed]",
      "text/plain": [
       "<Figure size 432x288 with 2 Axes>"
      ]
     },
     "metadata": {
      "needs_background": "light"
     },
     "output_type": "display_data"
    },
    {
     "name": "stdout",
     "output_type": "stream",
     "text": [
      "              precision    recall  f1-score   support\n",
      "\n",
      "           0       0.94      0.94      0.94       126\n",
      "           1       1.00      0.99      1.00       116\n",
      "           2       0.93      0.94      0.94       125\n",
      "\n",
      "    accuracy                           0.96       367\n",
      "   macro avg       0.96      0.96      0.96       367\n",
      "weighted avg       0.96      0.96      0.96       367\n",
      "\n"
     ]
    }
   ],
   "source": [
    "from sklearn.ensemble import VotingClassifier\n",
    "\n",
    "clf1 = SVC(C = 10, gamma = 0.1, kernel = 'rbf')\n",
    "clf2 = neighbors.KNeighborsClassifier(**{'metric': 'manhattan', 'n_neighbors': 11, 'weights': 'distance'})\n",
    "clf3 = DecisionTreeClassifier(**{'max_leaf_nodes': 13, 'min_samples_split': 2})\n",
    "\n",
    "eclf = VotingClassifier(estimators=[('svc', clf1), ('knn', clf2), ('dtc', clf3)], voting='hard')\n",
    "eclf = eclf.fit(X_train, y_train)\n",
    "\n",
    "y_predict = eclf.predict(X_test)\n",
    "\n",
    "corr =confusion_matrix(y_test,y_predict)\n",
    "ax = sns.heatmap(data= corr, annot=True, fmt=\"d\")\n",
    "#0  -  \"<200000\"   \n",
    "#1  -  \">400000\"\n",
    "#2  -  \"[200000,400000]\"\n",
    "labels = [\"<200k\",\">400k\",\"[200k,400k]\"]\n",
    "ax.set_xticklabels(labels)\n",
    "ax.set_yticklabels(labels)\n",
    "plt.show() \n",
    "\n",
    "print(classification_report(y_test,y_predict))"
   ]
  },
  {
   "cell_type": "markdown",
   "metadata": {
    "hidden": true
   },
   "source": [
    "#### Regressor\n",
    "MAE: 23179.088969577948"
   ]
  },
  {
   "cell_type": "code",
   "execution_count": 46,
   "metadata": {
    "hidden": true
   },
   "outputs": [
    {
     "name": "stdout",
     "output_type": "stream",
     "text": [
      "MAE: 23179.088969577948\n",
      "MSE: 1701874804.017724\n",
      "RMSE: 41253.78532956369\n"
     ]
    }
   ],
   "source": [
    "from sklearn.ensemble import VotingRegressor\n",
    "\n",
    "#clf1 = SVR(**{'C': 100, 'gamma': 0.01, 'kernel': 'rbf'})\n",
    "clf2 = neighbors.KNeighborsRegressor(**{'metric': 'manhattan', 'n_neighbors': 19, 'weights': 'distance'})\n",
    "clf3 = DecisionTreeRegressor(**{'criterion': 'mae', 'max_depth': 8, 'max_leaf_nodes': 100, 'min_samples_leaf': 20, 'min_samples_split': 10})\n",
    "\n",
    "#('svr', clf1), \n",
    "eclf = VotingRegressor(estimators=[('knn', clf2), ('dtc', clf3)])\n",
    "eclf = eclf.fit(X_train, y_train_r)\n",
    "\n",
    "y_predict = eclf.predict(X_test)\n",
    "\n",
    "print('MAE:', metrics.mean_absolute_error(y_test_r, y_predict))\n",
    "print('MSE:', metrics.mean_squared_error(y_test_r, y_predict))\n",
    "print('RMSE:', np.sqrt(metrics.mean_squared_error(y_test_r, y_predict)))"
   ]
  },
  {
   "cell_type": "markdown",
   "metadata": {
    "heading_collapsed": true,
    "hidden": true
   },
   "source": [
    "### XGBoost \n",
    "\n",
    "* Use [XGBoost](https://www.kaggle.com/stuarthallows/using-xgboost-with-scikit-learn).\n",
    "\n",
    "Regression - MAE = 18 832\n",
    "\n",
    "**Multiclass classification - Accuracy - 0.97**"
   ]
  },
  {
   "cell_type": "markdown",
   "metadata": {
    "heading_collapsed": true,
    "hidden": true
   },
   "source": [
    "#### Functions"
   ]
  },
  {
   "cell_type": "code",
   "execution_count": 47,
   "metadata": {
    "hidden": true
   },
   "outputs": [],
   "source": [
    "def display_scores(scores):\n",
    "    print(\"Scores: {0}\\nMean: {1:.3f}\\nStd: {2:.3f}\".format(scores, np.mean(scores), np.std(scores)))\n",
    "\n",
    "    \n",
    "def report_best_scores(results, n_top=3):\n",
    "    for i in range(1, n_top + 1):\n",
    "        candidates = np.flatnonzero(results['rank_test_score'] == i)\n",
    "        for candidate in candidates:\n",
    "            print(\"Model with rank: {0}\".format(i))\n",
    "            print(\"Mean validation score: {0:.3f} (std: {1:.3f})\".format(\n",
    "                  results['mean_test_score'][candidate],\n",
    "                  results['std_test_score'][candidate]))\n",
    "            print(\"Parameters: {0}\".format(results['params'][candidate]))\n",
    "            print(\"\")    \n",
    "    "
   ]
  },
  {
   "cell_type": "markdown",
   "metadata": {
    "heading_collapsed": true,
    "hidden": true
   },
   "source": [
    "#### Regression\n",
    "MAE = 18 832"
   ]
  },
  {
   "cell_type": "code",
   "execution_count": 48,
   "metadata": {
    "hidden": true
   },
   "outputs": [
    {
     "name": "stdout",
     "output_type": "stream",
     "text": [
      "[00:41:26] WARNING: C:/Users/Administrator/workspace/xgboost-win64_release_1.1.0/src/objective/regression_obj.cu:168: reg:linear is now deprecated in favor of reg:squarederror.\n",
      "[00:41:26] WARNING: C:/Users/Administrator/workspace/xgboost-win64_release_1.1.0/src/objective/regression_obj.cu:168: reg:linear is now deprecated in favor of reg:squarederror.\n"
     ]
    }
   ],
   "source": [
    "xgb_model = xgb.XGBRegressor(objective=\"reg:linear\", random_state=42)\n",
    "\n",
    "xgb_model.fit(X_train, y_train_r)\n",
    "\n",
    "y_pred = xgb_model.predict(X_test)"
   ]
  },
  {
   "cell_type": "code",
   "execution_count": 49,
   "metadata": {
    "hidden": true
   },
   "outputs": [
    {
     "name": "stdout",
     "output_type": "stream",
     "text": [
      "MAE: 19382.172673279973\n",
      "MSE: 770452398.0803407\n",
      "RMSE: 327498.06\n"
     ]
    }
   ],
   "source": [
    "print('MAE:', metrics.mean_absolute_error(y_test_r, y_pred))\n",
    "print('MSE:', metrics.mean_squared_error(y_test_r, y_pred))\n",
    "print('RMSE:', np.sqrt(metrics.mean_squared_error(y_test, y_pred)))"
   ]
  },
  {
   "cell_type": "markdown",
   "metadata": {
    "heading_collapsed": true,
    "hidden": true
   },
   "source": [
    "#### Multiclass classification\n",
    "Accuracy - 0.97"
   ]
  },
  {
   "cell_type": "code",
   "execution_count": 56,
   "metadata": {
    "hidden": true
   },
   "outputs": [
    {
     "data": {
      "image/png": "[encoded data removed]",
      "text/plain": [
       "<Figure size 432x288 with 2 Axes>"
      ]
     },
     "metadata": {},
     "output_type": "display_data"
    },
    {
     "name": "stdout",
     "output_type": "stream",
     "text": [
      "              precision    recall  f1-score   support\n",
      "\n",
      "           0       0.97      0.94      0.95       126\n",
      "           1       1.00      0.97      0.98       116\n",
      "           2       0.91      0.97      0.94       125\n",
      "\n",
      "    accuracy                           0.96       367\n",
      "   macro avg       0.96      0.96      0.96       367\n",
      "weighted avg       0.96      0.96      0.96       367\n",
      "\n"
     ]
    }
   ],
   "source": [
    "import seaborn as sns; sns.set()\n",
    "import matplotlib.pyplot as plt\n",
    "\n",
    "from scipy import stats\n",
    "from xgboost import XGBClassifier\n",
    "from sklearn.model_selection import RandomizedSearchCV, KFold\n",
    "from sklearn.metrics import f1_score\n",
    "\n",
    "\n",
    "xgb_model = xgb.XGBClassifier(objective=\"multi:softprob\", random_state=42)\n",
    "\n",
    "xgb_model.fit(X_train, y_train)\n",
    "\n",
    "y_pred = xgb_model.predict(X_test)\n",
    "\n",
    "corr = confusion_matrix(y_test, y_pred, labels=np.unique(y_pred))\n",
    "ax = sns.heatmap(data= corr, annot=True, fmt=\"d\")\n",
    "labels = [\"<200k\",\">400k\",\"[200k,400k]\"]\n",
    "ax.set_xticklabels(labels)\n",
    "ax.set_yticklabels(labels)\n",
    "plt.show()\n",
    "\n",
    "print(classification_report(y_test,y_pred))\n"
   ]
  },
  {
   "cell_type": "code",
   "execution_count": 51,
   "metadata": {
    "hidden": true
   },
   "outputs": [
    {
     "data": {
      "text/plain": [
       "<matplotlib.axes._subplots.AxesSubplot at 0x272bf01ce10>"
      ]
     },
     "execution_count": 51,
     "metadata": {},
     "output_type": "execute_result"
    },
    {
     "data": {
      "image/png": "[encoded data removed]",
      "text/plain": [
       "<Figure size 432x288 with 1 Axes>"
      ]
     },
     "metadata": {},
     "output_type": "display_data"
    }
   ],
   "source": [
    "import graphviz\n",
    "\n",
    "xgb.plot_importance(xgb_model)"
   ]
  },
  {
   "cell_type": "code",
   "execution_count": 52,
   "metadata": {
    "hidden": true
   },
   "outputs": [
    {
     "name": "stdout",
     "output_type": "stream",
     "text": [
      "MAE: 0.15174879831076452\n",
      "MSE: 0.10857882542301432\n",
      "RMSE: 0.3295130125245653\n"
     ]
    }
   ],
   "source": [
    "params = {'n_estimators': 500, 'max_depth': 4, 'min_samples_split': 2,\n",
    "          'learning_rate': 0.01, 'loss': 'ls'}\n",
    "\n",
    "clf = GradientBoostingRegressor(**params)\n",
    "\n",
    "clf.fit(X_train, y_train)\n",
    "clf_pred=clf.predict(X_test)\n",
    "clf_pred= clf_pred.reshape(-1,1)\n",
    "print('MAE:', metrics.mean_absolute_error(y_test, clf_pred))\n",
    "print('MSE:', metrics.mean_squared_error(y_test, clf_pred))\n",
    "print('RMSE:', np.sqrt(metrics.mean_squared_error(y_test, clf_pred)))"
   ]
  },
  {
   "cell_type": "markdown",
   "metadata": {
    "hidden": true
   },
   "source": [
    "### Random Forests\n",
    "\n",
    "* Use [Random Forests](http://scikit-learn.org/stable/modules/ensemble.html#random-forests).\n",
    "\n",
    "**Regression - MAE = 17 366**\n",
    "\n",
    "Multiclass classification - Accuracy = 0.96"
   ]
  },
  {
   "cell_type": "markdown",
   "metadata": {
    "heading_collapsed": true,
    "hidden": true
   },
   "source": [
    "#### Regression\n",
    "MAE = 17 366"
   ]
  },
  {
   "cell_type": "code",
   "execution_count": 53,
   "metadata": {
    "hidden": true
   },
   "outputs": [
    {
     "name": "stdout",
     "output_type": "stream",
     "text": [
      "MAE: 19330.01800882315\n",
      "MSE: 913012434.5473347\n",
      "RMSE: 326797.235468913\n"
     ]
    }
   ],
   "source": [
    "rfr = RandomForestRegressor(n_estimators = 500, random_state = 0)\n",
    "\n",
    "rfr.fit(X_train, y_train_r)\n",
    "rfr_pred= rfr.predict(X_test)\n",
    "rfr_pred = rfr_pred.reshape(-1,1)\n",
    "\n",
    "print('MAE:', metrics.mean_absolute_error(y_test_r, rfr_pred))\n",
    "print('MSE:', metrics.mean_squared_error(y_test_r, rfr_pred))\n",
    "print('RMSE:', np.sqrt(metrics.mean_squared_error(y_test, rfr_pred)))"
   ]
  },
  {
   "cell_type": "markdown",
   "metadata": {
    "hidden": true
   },
   "source": [
    "#### Multiclass classification\n",
    "\n",
    "Accuracy = 0.96 "
   ]
  },
  {
   "cell_type": "code",
   "execution_count": 54,
   "metadata": {
    "hidden": true
   },
   "outputs": [
    {
     "data": {
      "image/png": "[encoded data removed]",
      "text/plain": [
       "<Figure size 432x288 with 2 Axes>"
      ]
     },
     "metadata": {},
     "output_type": "display_data"
    },
    {
     "name": "stdout",
     "output_type": "stream",
     "text": [
      "              precision    recall  f1-score   support\n",
      "\n",
      "           0       0.94      0.92      0.93       126\n",
      "           1       0.98      0.98      0.98       116\n",
      "           2       0.91      0.92      0.91       125\n",
      "\n",
      "    accuracy                           0.94       367\n",
      "   macro avg       0.94      0.94      0.94       367\n",
      "weighted avg       0.94      0.94      0.94       367\n",
      "\n",
      "Mean -  0.9967279754764761\n",
      "STD -  0.004007436810561034\n"
     ]
    }
   ],
   "source": [
    "from sklearn.ensemble import RandomForestClassifier\n",
    "clf = RandomForestClassifier(n_estimators=10, max_depth=None, min_samples_split=2, random_state=0)\n",
    "scores = cross_val_score(clf, X, y, cv=10)\n",
    "\n",
    "clf.fit(X_train,y_train)\n",
    "\n",
    "y_pred = clf.predict(X_test)\n",
    "\n",
    "corr = confusion_matrix(y_test, y_pred, labels=np.unique(y_pred))\n",
    "ax = sns.heatmap(data= corr, annot=True, fmt=\"d\")\n",
    "\n",
    "plt.show()\n",
    "\n",
    "print(classification_report(y_test,y_pred))\n",
    "\n",
    "\n",
    "print(\"Mean - \",scores.mean())\n",
    "print(\"STD - \",scores.std())"
   ]
  },
  {
   "cell_type": "code",
   "execution_count": 55,
   "metadata": {
    "hidden": true
   },
   "outputs": [
    {
     "data": {
      "image/png": "[encoded data removed]",
      "text/plain": [
       "<Figure size 432x288 with 2 Axes>"
      ]
     },
     "metadata": {},
     "output_type": "display_data"
    },
    {
     "name": "stdout",
     "output_type": "stream",
     "text": [
      "              precision    recall  f1-score   support\n",
      "\n",
      "           0       0.94      0.96      0.95       126\n",
      "           1       1.00      0.98      0.99       116\n",
      "           2       0.94      0.94      0.94       125\n",
      "\n",
      "    accuracy                           0.96       367\n",
      "   macro avg       0.96      0.96      0.96       367\n",
      "weighted avg       0.96      0.96      0.96       367\n",
      "\n",
      "Mean -  0.9729708116753297\n",
      "STD -  0.013246056225243106\n"
     ]
    }
   ],
   "source": [
    "from sklearn.ensemble import ExtraTreesClassifier\n",
    "\n",
    "clf = ExtraTreesClassifier(n_estimators=10, max_depth=None,min_samples_split=2, random_state=0)\n",
    "scores = cross_val_score(clf, X, y, cv=10)\n",
    "clf.fit(X_train,y_train)\n",
    "\n",
    "y_pred = clf.predict(X_test)\n",
    "\n",
    "corr = confusion_matrix(y_test, y_pred, labels=np.unique(y_pred))\n",
    "ax = sns.heatmap(data= corr, annot=True, fmt=\"d\")\n",
    "\n",
    "plt.show()\n",
    "\n",
    "print(classification_report(y_test,y_pred))\n",
    "\n",
    "\n",
    "print(\"Mean - \",scores.mean())\n",
    "print(\"STD - \",scores.std())"
   ]
  },
  {
   "cell_type": "markdown",
   "metadata": {},
   "source": [
    "## 4.4. Conclusions"
   ]
  },
  {
   "cell_type": "markdown",
   "metadata": {},
   "source": [
    "- Regression\n",
    "    - Random Forests - MAE = 17 366\n",
    "\n",
    "- Multiclass classification\n",
    "    - XGBoost - Accuracy - 0.97\n",
    "\n",
    "\n",
    "\n",
    "- Podemos verificar que a combinação de modelos através do voting não foi favorável na classificação do dataset.\n",
    "- O Ensemble Learning através da Random Forests Classification e do XGBoost regressor consegue obter melhores resultados do que os outros modelos testados."
   ]
  }
 ],
 "metadata": {
  "kernelspec": {
   "display_name": "Python 3",
   "language": "python",
   "name": "python3"
  },
  "language_info": {
   "codemirror_mode": {
    "name": "ipython",
    "version": 3
   },
   "file_extension": ".py",
   "mimetype": "text/x-python",
   "name": "python",
   "nbconvert_exporter": "python",
   "pygments_lexer": "ipython3",
   "version": "3.7.3"
  }
 },
 "nbformat": 4,
 "nbformat_minor": 2
}
